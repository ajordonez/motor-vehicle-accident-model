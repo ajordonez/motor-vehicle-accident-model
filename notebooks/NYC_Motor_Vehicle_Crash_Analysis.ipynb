{
 "cells": [
  {
   "cell_type": "markdown",
   "metadata": {},
   "source": [
    "# **Predictive Model for Motor Vehicle Accidents: Injury and Fatality Prevention and Intersection Safety  (January 2015 - December 2024)**\n",
    "\n",
    "#### *By Alejandro J. Ordonez*\n",
    "\n",
    "**Version 1.0.1**"
   ]
  },
  {
   "cell_type": "markdown",
   "metadata": {},
   "source": [
    "## **Project Overview**:\n",
    "\n",
    "This project outlines the motor vehicle (cars, trucks, buses, motorcycle) accident data in NYC, based on intersection characteristics, finding patterns within drivers, accident concentration by zip code, and commonalities among high risk areas and vehicles. \n",
    "\n",
    "##### **Our Goal**: \n",
    "\n",
    "This project aims to create a model to predict potential injury or fatalities based on variables given by NYPD public data. It also aims to create an interactive heat map for intersection collisions and provide a comprehensive look at where collisions are occuring in NYC.\n",
    "\n",
    "Further exploration of this model could aid insurance companies in adjusting premiums for high risk profiles and locations, provide government agencies with actionable data to improve traffic safety, and give new yorkers a compreshensive look at where accidents are occuring. \n",
    "\n",
    "We plan on doing so by analyzing historical accident data from the last 10 years, traffic patterns, and intersection structures. The predictive model will identify high risk areas and attempt to predict future accidents within a certain margin of error. \n",
    "\n",
    "##### **Methodology**: \n",
    "\n",
    "We plan on using NYC public data in order to create this model.\n",
    "\n",
    "We will be using SQL, and more specifically Google's RDBMS BigQuery to retrieve and clean data. \n",
    "\n",
    "We will be using R to help with statistical analysis on the cleaned dataset, as well as to create the logistical regression model for injury/fatality analysis. \n",
    "\n",
    "And finally we will be using Tableau to create a heat map of high risk areas and intersections with high counts of collisions. "
   ]
  },
  {
   "cell_type": "markdown",
   "metadata": {},
   "source": [
    "# **Data Collection:**\n",
    "\n",
    "To get our dataset we looked on the NYC public data in order to find the motor vehicle accident data. \n",
    "\n",
    "We used this table for the personal profiles: https://data.cityofnewyork.us/Public-Safety/Motor-Vehicle-Collisions-Person/f55k-p6yu/about_data\n",
    "\n",
    "We used this table for the collision in the intersection: https://data.cityofnewyork.us/Public-Safety/Motor-Vehicle-Collisions-Crashes/h9gi-nx95/about_data\n",
    "\n",
    "We used this table for the specific vehicles in the crashes: https://data.cityofnewyork.us/Public-Safety/Motor-Vehicle-Collisions-Vehicles/bm4k-52h4/about_data\n",
    "\n",
    "All of the data that we have collected will be stored into a personal Google Cloud and we will use Google's BigQuery in order to query the data. \n",
    "\n",
    "**For this project we will refer to the dataset as `insurance` and the tables as `insurance.persons`, `insurance.crashes`, and `insurance.vehicles` respectively.**"
   ]
  },
  {
   "cell_type": "markdown",
   "metadata": {},
   "source": [
    "# **Data Cleaning**\n",
    "\n",
    "As of now, SQL queries in this notebook do not run, however the final product is in the `motor-vehicle-accident-model` repo under the csv: `clean_motor_vehicle_table`. The following steps document the data cleaning that created the CSV we will be using. \n",
    "\n",
    "Using BigQuery, we will first clean the first table, `insurance.persons`. We will filter out null values for relevant fields and select data in between 2015-2024. "
   ]
  },
  {
   "cell_type": "raw",
   "metadata": {
    "vscode": {
     "languageId": "raw"
    }
   },
   "source": [
    "SELECT *\n",
    "FROM \n",
    "  `insurance.persons`\n",
    "WHERE\n",
    "  `CRASH_DATE` BETWEEN '2015-01-01' AND '2024-12-01'\n",
    "  AND PERSON_TYPE IS NOT NULL\n",
    "  AND PERSON_AGE IS NOT NULL \n",
    "  AND PERSON_AGE >0 \n",
    "  AND PERSON_AGE <150\n",
    "  AND PERSON_SEX IS NOT NULL\n",
    "  AND COLLISION_ID IS NOT NULL\n",
    "  AND PERSON_TYPE = \"Occupant\"\n",
    "  AND EMOTIONAL_STATUS IS NOT NULL\n",
    "  AND POSITION_IN_VEHICLE LIKE \"%Driver%\"\n",
    "  AND PERSON_INJURY IS NOT NULL"
   ]
  },
  {
   "cell_type": "markdown",
   "metadata": {},
   "source": [
    "Now we will move onto the next table `insurance.crashes` where we will do largely the same thing as we did for the previous table. "
   ]
  },
  {
   "cell_type": "raw",
   "metadata": {
    "vscode": {
     "languageId": "raw"
    }
   },
   "source": [
    "  SELECT *\n",
    "  FROM `insurance.crashes`\n",
    "  WHERE\n",
    "    `CRASH DATE` BETWEEN '2015-01-01' AND '2024-12-01'\n",
    "    AND BOROUGH IS NOT NULL\n",
    "    AND `ZIP CODE` IS NOT NULL\n",
    "    AND `ZIP CODE` > 10000\n",
    "    AND COLLISION_ID IS NOT NULL\n",
    "    AND `NUMBER OF PERSONS KILLED` IS NOT NULL\n",
    "    AND `NUMBER OF PERSONS INJURED` IS NOT NULL"
   ]
  },
  {
   "cell_type": "markdown",
   "metadata": {},
   "source": [
    "For the last table (`insurance.vehicles`) we need to condense down the types of vehicles from over 1000 into 11 types:\n",
    "\n",
    "(Sedan, SUV, Taxi, Pickup Truck, Van, Emergency Vehicle, Livery, Bus, Motorcycle, Bicycle, Truck, and Other)\n",
    "\n",
    "Like the other queries, we will also filter out null values for relevant fields and select data in between 2015-2024"
   ]
  },
  {
   "cell_type": "raw",
   "metadata": {
    "vscode": {
     "languageId": "raw"
    }
   },
   "source": [
    "WITH cleaned_vehicles AS (\n",
    "    SELECT \n",
    "        COLLISION_ID,\n",
    "        DRIVER_LICENSE_STATUS,\n",
    "        UPPER(TRIM(VEHICLE_TYPE)) AS VEHICLE_TYPE,\n",
    "        DRIVER_SEX,\n",
    "        \n",
    "        --This case query will sort the type of vehicles (ex: motorcycles, trucks, sedans, SUVs) together\n",
    "        CASE \n",
    "            WHEN UPPER(TRIM(VEHICLE_TYPE)) LIKE '%SEDAN%' THEN 'Sedan'\n",
    "            WHEN UPPER(TRIM(VEHICLE_TYPE)) LIKE '%SPORT UTILITY%' OR UPPER(TRIM(VEHICLE_TYPE)) LIKE '%SUV%' OR UPPER(TRIM(VEHICLE_TYPE)) LIKE '%STATION WAGON%' THEN 'SUV'\n",
    "            WHEN UPPER(TRIM(VEHICLE_TYPE)) LIKE '%TAXI%' OR UPPER(TRIM(VEHICLE_TYPE)) LIKE '%CAB%' THEN 'Taxi'\n",
    "            WHEN UPPER(TRIM(VEHICLE_TYPE)) LIKE '%PICK%' OR UPPER(TRIM(VEHICLE_TYPE)) LIKE '%TRUCK%' THEN 'Pickup Truck'\n",
    "            WHEN UPPER(TRIM(VEHICLE_TYPE)) LIKE '%VAN%' THEN 'Van'\n",
    "            WHEN UPPER(TRIM(VEHICLE_TYPE)) LIKE '%AMBULANCE%' OR UPPER(TRIM(VEHICLE_TYPE)) LIKE '%FIRE TRUCK%' OR UPPER(TRIM(VEHICLE_TYPE)) LIKE '%FDNY%' \n",
    "                OR UPPER(TRIM(VEHICLE_TYPE)) LIKE '%POLICE%' OR UPPER(TRIM(VEHICLE_TYPE)) LIKE '%EMERGENCY%' OR UPPER(TRIM(VEHICLE_TYPE)) LIKE '%EMS%' THEN 'Emergency Vehicle'\n",
    "            WHEN UPPER(TRIM(VEHICLE_TYPE)) LIKE '%LIVERY%' OR UPPER(TRIM(VEHICLE_TYPE)) LIKE '%LIMO%' THEN 'Livery'\n",
    "            WHEN UPPER(TRIM(VEHICLE_TYPE)) LIKE '%BUS%' THEN 'Bus'\n",
    "            WHEN UPPER(TRIM(VEHICLE_TYPE)) LIKE '%MOTORCYCLE%' OR UPPER(TRIM(VEHICLE_TYPE)) LIKE '%SCOOTER%' OR UPPER(TRIM(VEHICLE_TYPE)) LIKE '%MOPED%' \n",
    "                OR UPPER(TRIM(VEHICLE_TYPE)) LIKE '%E-SCOOTER%' OR UPPER(TRIM(VEHICLE_TYPE)) LIKE '%MOTORBIKE%' OR UPPER(TRIM(VEHICLE_TYPE)) LIKE '%E-BIKE%' \n",
    "                OR UPPER(TRIM(VEHICLE_TYPE)) LIKE '%EBIKE%' OR UPPER(TRIM(VEHICLE_TYPE)) LIKE '%DIRT BIKE%' THEN 'Motorcycle'\n",
    "            WHEN UPPER(TRIM(VEHICLE_TYPE)) LIKE '%BICYCLE%' OR UPPER(TRIM(VEHICLE_TYPE)) LIKE '%E-BIKE%' THEN 'Bicycle'\n",
    "            WHEN UPPER(TRIM(VEHICLE_TYPE)) LIKE '%TRUCK%' OR UPPER(TRIM(VEHICLE_TYPE)) LIKE '%DUMP TRUCK%' OR UPPER(TRIM(VEHICLE_TYPE)) LIKE '%FLATBED%' \n",
    "                OR UPPER(TRIM(VEHICLE_TYPE)) LIKE '%TRACTOR TRAILER%' OR UPPER(TRIM(VEHICLE_TYPE)) LIKE '%MAIL TRUCK%' OR UPPER(TRIM(VEHICLE_TYPE)) LIKE '%GARBAGE%' THEN 'Truck'\n",
    "            ELSE 'Other'\n",
    "\n",
    "    END AS TYPE_OF_VEHICLE\n",
    "\n",
    "\n",
    "    FROM \n",
    "        `insurance.vehicles`\n",
    "    WHERE \n",
    "        `CRASH_DATE` BETWEEN '2015-01-01' AND '2024-12-01'\n",
    "        AND VEHICLE_TYPE IS NOT NULL\n",
    "        AND DRIVER_SEX IS NOT NULL\n",
    "        AND DRIVER_LICENSE_STATUS IS NOT NULL\n",
    "        AND COLLISION_ID IS NOT NULL\n",
    "\n",
    ")\n",
    "\n",
    "SELECT \n",
    "    DRIVER_LICENSE_STATUS,\n",
    "    TYPE_OF_VEHICLE,\n",
    "    DRIVER_SEX,\n",
    "    cleaned_vehicles.VEHICLE_TYPE\n",
    "FROM cleaned_vehicles"
   ]
  },
  {
   "cell_type": "markdown",
   "metadata": {},
   "source": [
    "In this case, we used a common table expression \"cleaned_vehicles\" to first create a table then run the query. We will use this same methodology to combine the rest of the cleaned queries into one query and use **INNER JOIN** to combine the tables together. "
   ]
  },
  {
   "cell_type": "markdown",
   "metadata": {},
   "source": [
    "### Choosing Variables\n",
    "\n",
    "Now that we have the cleaned tables, we need to select what we will be pulling from the new joined table. Of the variables for our model, we will pull a few that are relevant and can be factored in R. We ended up with the following fields:\n",
    "\n",
    "* Crash date\n",
    "* Crash time\n",
    "* Borough\n",
    "* Zip code\n",
    "* Number of fatalities caused by crash\n",
    "* Number of persons injured by crash\n",
    "* Driver injury\n",
    "* Drivers license Status\n",
    "* Vehicle type\n",
    "* Age\n",
    "* Sex"
   ]
  },
  {
   "cell_type": "markdown",
   "metadata": {},
   "source": [
    "## **Final Model Query**"
   ]
  },
  {
   "cell_type": "raw",
   "metadata": {
    "vscode": {
     "languageId": "raw"
    }
   },
   "source": [
    "--The following will be cleaning the data before joining them together\n",
    "\n",
    "--Cleaned insurance.crashes query\n",
    "WITH cleaned_crashes AS (\n",
    "  SELECT *\n",
    "  FROM `insurance.crashes`\n",
    "  WHERE\n",
    "    `CRASH DATE` BETWEEN '2015-01-01' AND '2024-12-01'\n",
    "    AND BOROUGH IS NOT NULL\n",
    "    AND `ZIP CODE` IS NOT NULL\n",
    "    AND `ZIP CODE` > 10000\n",
    "    AND COLLISION_ID IS NOT NULL\n",
    "    AND `NUMBER OF PERSONS KILLED` IS NOT NULL\n",
    "    AND `NUMBER OF PERSONS INJURED` IS NOT NULL\n",
    "\n",
    "),\n",
    "\n",
    "--Cleaned insurance.vehicles query\n",
    "cleaned_vehicles AS (\n",
    "    SELECT \n",
    "        COLLISION_ID,\n",
    "        DRIVER_LICENSE_STATUS,\n",
    "        UPPER(TRIM(VEHICLE_TYPE)) AS VEHICLE_TYPE,\n",
    "        DRIVER_SEX,\n",
    "        \n",
    "        #This case query will sort the type of vehicles (ex: motorcycles, trucks, sedans, SUVs) together\n",
    "        CASE \n",
    "            WHEN UPPER(TRIM(VEHICLE_TYPE)) LIKE '%SEDAN%' THEN 'Sedan'\n",
    "            WHEN UPPER(TRIM(VEHICLE_TYPE)) LIKE '%SPORT UTILITY%' OR UPPER(TRIM(VEHICLE_TYPE)) LIKE '%SUV%' OR UPPER(TRIM(VEHICLE_TYPE)) LIKE '%STATION WAGON%' THEN 'SUV'\n",
    "            WHEN UPPER(TRIM(VEHICLE_TYPE)) LIKE '%TAXI%' OR UPPER(TRIM(VEHICLE_TYPE)) LIKE '%CAB%' THEN 'Taxi'\n",
    "            WHEN UPPER(TRIM(VEHICLE_TYPE)) LIKE '%PICK%' OR UPPER(TRIM(VEHICLE_TYPE)) LIKE '%TRUCK%' THEN 'Pickup Truck'\n",
    "            WHEN UPPER(TRIM(VEHICLE_TYPE)) LIKE '%VAN%' THEN 'Van'\n",
    "            WHEN UPPER(TRIM(VEHICLE_TYPE)) LIKE '%AMBULANCE%' OR UPPER(TRIM(VEHICLE_TYPE)) LIKE '%FIRE TRUCK%' OR UPPER(TRIM(VEHICLE_TYPE)) LIKE '%FDNY%' \n",
    "                OR UPPER(TRIM(VEHICLE_TYPE)) LIKE '%POLICE%' OR UPPER(TRIM(VEHICLE_TYPE)) LIKE '%EMERGENCY%' OR UPPER(TRIM(VEHICLE_TYPE)) LIKE '%EMS%' THEN 'Emergency Vehicle'\n",
    "            WHEN UPPER(TRIM(VEHICLE_TYPE)) LIKE '%LIVERY%' OR UPPER(TRIM(VEHICLE_TYPE)) LIKE '%LIMO%' THEN 'Livery'\n",
    "            WHEN UPPER(TRIM(VEHICLE_TYPE)) LIKE '%BUS%' THEN 'Bus'\n",
    "            WHEN UPPER(TRIM(VEHICLE_TYPE)) LIKE '%MOTORCYCLE%' OR UPPER(TRIM(VEHICLE_TYPE)) LIKE '%SCOOTER%' OR UPPER(TRIM(VEHICLE_TYPE)) LIKE '%MOPED%' \n",
    "                OR UPPER(TRIM(VEHICLE_TYPE)) LIKE '%E-SCOOTER%' OR UPPER(TRIM(VEHICLE_TYPE)) LIKE '%MOTORBIKE%' OR UPPER(TRIM(VEHICLE_TYPE)) LIKE '%E-BIKE%' \n",
    "                OR UPPER(TRIM(VEHICLE_TYPE)) LIKE '%EBIKE%' OR UPPER(TRIM(VEHICLE_TYPE)) LIKE '%DIRT BIKE%' THEN 'Motorcycle'\n",
    "            WHEN UPPER(TRIM(VEHICLE_TYPE)) LIKE '%BICYCLE%' OR UPPER(TRIM(VEHICLE_TYPE)) LIKE '%E-BIKE%' THEN 'Bicycle'\n",
    "            WHEN UPPER(TRIM(VEHICLE_TYPE)) LIKE '%TRUCK%' OR UPPER(TRIM(VEHICLE_TYPE)) LIKE '%DUMP TRUCK%' OR UPPER(TRIM(VEHICLE_TYPE)) LIKE '%FLATBED%' \n",
    "                OR UPPER(TRIM(VEHICLE_TYPE)) LIKE '%TRACTOR TRAILER%' OR UPPER(TRIM(VEHICLE_TYPE)) LIKE '%MAIL TRUCK%' OR UPPER(TRIM(VEHICLE_TYPE)) LIKE '%GARBAGE%' THEN 'Truck'\n",
    "            ELSE 'Other'\n",
    "\n",
    "    END AS TYPE_OF_VEHICLE\n",
    "\n",
    "\n",
    "    FROM \n",
    "        `insurance.vehicles`\n",
    "    WHERE \n",
    "        `CRASH_DATE` BETWEEN '2015-01-01' AND '2024-12-01'\n",
    "        AND VEHICLE_TYPE IS NOT NULL\n",
    "        AND DRIVER_SEX IS NOT NULL\n",
    "        AND DRIVER_LICENSE_STATUS IS NOT NULL\n",
    "        AND COLLISION_ID IS NOT NULL\n",
    "\n",
    "),\n",
    "\n",
    "--Cleaned insurance.persons query\n",
    "cleaned_persons AS (\n",
    "  SELECT *\n",
    "  FROM `insurance.persons`\n",
    "  WHERE\n",
    "    `CRASH_DATE` BETWEEN '2015-01-01' AND '2024-12-01'\n",
    "    AND PERSON_TYPE IS NOT NULL\n",
    "    AND PERSON_AGE IS NOT NULL \n",
    "    AND PERSON_AGE >0 \n",
    "    AND PERSON_AGE <150\n",
    "    AND PERSON_SEX IS NOT NULL\n",
    "    AND COLLISION_ID IS NOT NULL\n",
    "    AND PERSON_TYPE = \"Occupant\"\n",
    "    AND EMOTIONAL_STATUS IS NOT NULL\n",
    "    AND POSITION_IN_VEHICLE LIKE \"%Driver%\"\n",
    "    AND PERSON_INJURY IS NOT NULL\n",
    ")\n",
    "\n",
    "--Here we will begin the query with the cleaned data\n",
    "SELECT \n",
    "  c.`CRASH DATE`,\n",
    "  c.`CRASH TIME`,\n",
    "  c.BOROUGH,\n",
    "  c.`ZIP CODE`,\n",
    "  c.`NUMBER OF PERSONS KILLED`,\n",
    "  c.`NUMBER OF PERSONS INJURED`,\n",
    "  c.`CONTRIBUTING FACTOR VEHICLE 1`,\n",
    "  v.DRIVER_LICENSE_STATUS,\n",
    "  v.TYPE_OF_VEHICLE,\n",
    "  p.PERSON_INJURY,\n",
    "  p.PERSON_AGE,\n",
    "  p.PERSON_SEX,\n",
    "  COUNT(*) AS TOTAL_INCIDENTS\n",
    "\n",
    "--Here we will join the 3 tables together with COLLISION_ID, where we rename the tables as c for Crashes, p for Persons, and v for Vehicles\n",
    "FROM \n",
    "  cleaned_crashes AS c\n",
    "  INNER JOIN cleaned_vehicles AS v\n",
    "    ON c.COLLISION_ID = v.COLLISION_ID\n",
    "  INNER JOIN cleaned_persons AS p\n",
    "    ON c.COLLISION_ID = p.COLLISION_ID\n",
    "\n",
    "\n",
    "GROUP BY \n",
    "  c.`CRASH DATE`,\n",
    "  c.`CRASH TIME`,\n",
    "  c.BOROUGH,\n",
    "  c.`ZIP CODE`,\n",
    "  c.`NUMBER OF PERSONS KILLED`,\n",
    "  c.`NUMBER OF PERSONS INJURED`,\n",
    "  c.`CONTRIBUTING FACTOR VEHICLE 1`,\n",
    "  v.DRIVER_LICENSE_STATUS,\n",
    "  v.TYPE_OF_VEHICLE,\n",
    "  p.PERSON_INJURY,\n",
    "  p.PERSON_AGE,\n",
    "  p.PERSON_SEX"
   ]
  },
  {
   "cell_type": "markdown",
   "metadata": {},
   "source": [
    "We now have a cleaned dataset with all of the variables for the model. Although the code above does not work in Jupyter notebook, the result is in the `motor-vehicle-accident-model` repo in my GitHub under the csv file `clean_motor_vehicle_table`. Now we can begin with the analysis in R. "
   ]
  },
  {
   "cell_type": "markdown",
   "metadata": {},
   "source": [
    "# **Model Data Analysis**\n",
    "\n",
    "Now we will use R to analyze the motor vehicle data we had just cleaned. First we will retrieve tidyverse and read the CSV file as \"vehicle_data\". "
   ]
  },
  {
   "cell_type": "code",
   "execution_count": null,
   "metadata": {
    "vscode": {
     "languageId": "r"
    }
   },
   "outputs": [],
   "source": [
    "#Optional, install all packages we will be using for this analysis:\n",
    "install.packages(\"tidyverse\")\n",
    "install.packages(\"RCurl\")\n",
    "install.packages(\"forcats\")\n",
    "install.packages(\"broom\")\n",
    "install.packages(\"ResourceSelection\")"
   ]
  },
  {
   "cell_type": "code",
   "execution_count": null,
   "metadata": {
    "vscode": {
     "languageId": "r"
    }
   },
   "outputs": [],
   "source": [
    "library(tidyverse)\n",
    "library(RCurl)\n",
    "raw_file <- getURL(\"https://raw.githubusercontent.com/ajordonez/motor-vehicle-accident-model/refs/heads/main/cleaned_data/clean_motor_vehicle_table.csv\")\n",
    "vehicle_data <- read.csv(text = raw_file)\n",
    "head(vehicle_data)"
   ]
  },
  {
   "cell_type": "markdown",
   "metadata": {},
   "source": [
    "We will now convert the following fields into factors for easier analysis"
   ]
  },
  {
   "cell_type": "code",
   "execution_count": null,
   "metadata": {
    "vscode": {
     "languageId": "r"
    }
   },
   "outputs": [],
   "source": [
    "vehicle_data$BOROUGH <- as.factor(vehicle_data$BOROUGH)\n",
    "vehicle_data$BOROUGH <- relevel(factor(vehicle_data$BOROUGH), ref = \"STATEN ISLAND\")\n",
    "vehicle_data$PERSON_INJURY <- as.factor(vehicle_data$PERSON_INJURY)\n",
    "vehicle_data$PERSON_SEX <- as.factor(vehicle_data$PERSON_SEX)\n",
    "vehicle_data$DRIVER_LICENSE_STATUS <- factor(vehicle_data$DRIVER_LICENSE_STATUS, \n",
    "                                           levels = c(\"Unlicensed\", \"Permit\", \"Licensed\"), \n",
    "                                           ordered = TRUE)\n",
    "vehicle_data$TYPE_OF_VEHICLE <- as.factor(vehicle_data$TYPE_OF_VEHICLE)\n",
    "\n",
    "#Make sure that for drivers license status it is ordered\n",
    "levels(vehicle_data$DRIVER_LICENSE_STATUS)\n"
   ]
  },
  {
   "cell_type": "markdown",
   "metadata": {},
   "source": [
    "We now have most of the variables as factors, but we also have age as a factor for our model. We will now check to make sure for age, no values fall out of reasonable driver age."
   ]
  },
  {
   "cell_type": "code",
   "execution_count": null,
   "metadata": {
    "vscode": {
     "languageId": "r"
    }
   },
   "outputs": [],
   "source": [
    "max(vehicle_data$PERSON_AGE); min(vehicle_data$PERSON_AGE)"
   ]
  },
  {
   "cell_type": "markdown",
   "metadata": {},
   "source": [
    "We can see that the minimum is 1 and maximum is 145. This is not realistic and was probably due to data entry error. We will make the minimum value 12 and maximum 100 for this analysis.\n"
   ]
  },
  {
   "cell_type": "code",
   "execution_count": 28,
   "metadata": {
    "vscode": {
     "languageId": "r"
    }
   },
   "outputs": [],
   "source": [
    "vehicle_data <- vehicle_data %>% filter(PERSON_AGE >= 16, PERSON_AGE < 100)"
   ]
  },
  {
   "cell_type": "markdown",
   "metadata": {},
   "source": [
    "For our injury/fatality analysis, we also need to make a seperate field so that we can check if the collision cause any injuries or fatalities."
   ]
  },
  {
   "cell_type": "code",
   "execution_count": 29,
   "metadata": {
    "vscode": {
     "languageId": "r"
    }
   },
   "outputs": [],
   "source": [
    "vehicle_data <- vehicle_data %>%\n",
    "  mutate(INJURY_OR_FATALITY = ifelse(PERSON_INJURY %in% c(\"Injured\", \"Killed\"), TRUE, FALSE))"
   ]
  },
  {
   "cell_type": "markdown",
   "metadata": {},
   "source": [
    "After a quick check on the count of TYPE_OF_VEHICLES with our newly created INJURY_OR_FATALITY column"
   ]
  },
  {
   "cell_type": "code",
   "execution_count": null,
   "metadata": {
    "vscode": {
     "languageId": "r"
    }
   },
   "outputs": [],
   "source": [
    "table(vehicle_data$TYPE_OF_VEHICLE, vehicle_data$INJURY_OR_FATALITY)"
   ]
  },
  {
   "cell_type": "markdown",
   "metadata": {},
   "source": [
    "We can see that ***Livery*** (Limo services) has less than 30 instances, meaning it might cause our model some errors as a variable. We will combine ***Livery*** with Taxi services for this analysis as they both functionally do similar things, drive a paying client/passenger from one place to another."
   ]
  },
  {
   "cell_type": "code",
   "execution_count": 31,
   "metadata": {
    "vscode": {
     "languageId": "r"
    }
   },
   "outputs": [],
   "source": [
    "library(forcats)\n",
    "vehicle_data <- vehicle_data %>%\n",
    "  mutate(TYPE_OF_VEHICLE = fct_collapse(TYPE_OF_VEHICLE, \"Taxi/Livery\" = c(\"Livery\", \"Taxi\")))"
   ]
  },
  {
   "cell_type": "markdown",
   "metadata": {},
   "source": [
    "When checking `PERSON_SEX`, we can see that it has 3 factors"
   ]
  },
  {
   "cell_type": "code",
   "execution_count": null,
   "metadata": {
    "vscode": {
     "languageId": "r"
    }
   },
   "outputs": [],
   "source": [
    "unique(vehicle_data$PERSON_SEX)\n",
    "\n",
    "#Checks how many instances of unknown sex there are\n",
    "sum(vehicle_data$PERSON_SEX == \"U\", na.rm = TRUE)"
   ]
  },
  {
   "cell_type": "markdown",
   "metadata": {},
   "source": [
    "For our regression model we will want to use Male and Female for `PERSON_SEX`. We will filter out the unknown sex for this analysis. "
   ]
  },
  {
   "cell_type": "code",
   "execution_count": 33,
   "metadata": {
    "vscode": {
     "languageId": "r"
    }
   },
   "outputs": [],
   "source": [
    "vehicle_data <- vehicle_data %>% \n",
    "  filter(PERSON_SEX != \"U\")"
   ]
  },
  {
   "cell_type": "markdown",
   "metadata": {},
   "source": [
    "#### **NOTE: The following will show the processes to get the final model. If you would like to skip to the final model, run the code for the following steps and go to \"Final Regression Model\"**\n",
    "\n",
    "Now it is time to make the first model, we will use a logistical regression model. We chose logistical regression as we are trying to find whether or not (True or False), the variables are factors for injury or fatality. "
   ]
  },
  {
   "cell_type": "code",
   "execution_count": null,
   "metadata": {
    "vscode": {
     "languageId": "r"
    }
   },
   "outputs": [],
   "source": [
    "mod1 <- glm(INJURY_OR_FATALITY ~ BOROUGH+TYPE_OF_VEHICLE+PERSON_SEX+DRIVER_LICENSE_STATUS+PERSON_AGE, data = vehicle_data, family = \"binomial\")\n",
    "summary(mod1)\n",
    "\n",
    "#Calculate multicollinearity using the VIF (Variance Inflation Factor) function\n",
    "vif_mod1 <- car::vif(mod1)\n",
    "print(vif_mod1)"
   ]
  },
  {
   "cell_type": "markdown",
   "metadata": {},
   "source": [
    "As we can see from the first model, we have variables that are statistically significant and many others that aren't. We will now do a **Chi-Square** and **Hosmer-Lemeshow** tests to check if the model is better at predicting outcomes than the null model and aligns with the data."
   ]
  },
  {
   "cell_type": "code",
   "execution_count": null,
   "metadata": {
    "vscode": {
     "languageId": "r"
    }
   },
   "outputs": [],
   "source": [
    "null_mod1 <- glm(INJURY_OR_FATALITY ~ 1, data = vehicle_data, family = \"binomial\")\n",
    "anova(null_mod1, mod1, test = \"Chisq\")\n",
    "\n",
    "#Testing now to see how well the model fits with the data\n",
    "library(ResourceSelection)\n",
    "hoslem.test(vehicle_data$INJURY_OR_FATALITY, fitted(mod1))"
   ]
  },
  {
   "cell_type": "markdown",
   "metadata": {},
   "source": [
    "We can see from the result that the **Chi-Squared** test came out as signficant, meaning that our model was better than the null model at predicting injury and fatalities. However we see the **Hosmer-Lemeshow** test came back significant, meaning our model doesn't fit the data inputted. This means that our model needs some work. "
   ]
  },
  {
   "cell_type": "markdown",
   "metadata": {},
   "source": [
    "To work on the current model, let us combine some of the non-significant variables. We will combine larger vehicles (ex: Vans, Trucks, Buses, Emergency vehicles) into one category called `Large Vehicles`. After we will re-run the model as `mod2`."
   ]
  },
  {
   "cell_type": "code",
   "execution_count": null,
   "metadata": {
    "vscode": {
     "languageId": "r"
    }
   },
   "outputs": [],
   "source": [
    "vehicle_data$TYPE_OF_VEHICLE <- fct_collapse(vehicle_data$TYPE_OF_VEHICLE,\n",
    "                                             \"Large Vehicles\" = c(\"Truck\", \"Pickup Truck\", \"Van\", \"Emergency Vehicle\"))\n",
    "\n",
    "mod2 <- glm(INJURY_OR_FATALITY ~ BOROUGH + TYPE_OF_VEHICLE + PERSON_SEX + \n",
    "              DRIVER_LICENSE_STATUS + PERSON_AGE, \n",
    "            data = vehicle_data, family = \"binomial\")\n",
    "summary(mod2)\n",
    "\n",
    "hoslem.test(vehicle_data$INJURY_OR_FATALITY, fitted(mod2))\n"
   ]
  },
  {
   "cell_type": "markdown",
   "metadata": {},
   "source": [
    "We can see that the model still is not matching the data. Our only numerical data is `PERSON_AGE`. Let us check the graph to see if there is anything we can gather."
   ]
  },
  {
   "cell_type": "code",
   "execution_count": null,
   "metadata": {
    "vscode": {
     "languageId": "r"
    }
   },
   "outputs": [],
   "source": [
    "age_summary <- vehicle_data %>%\n",
    "  group_by(PERSON_AGE) %>%  \n",
    "  summarise(TOTAL_CASES = n(), INJURY_OR_FATALITY_COUNT = sum(INJURY_OR_FATALITY)) %>%\n",
    "  mutate(PROBABILITY_PER_AGE = INJURY_OR_FATALITY_COUNT / TOTAL_CASES)  \n",
    "\n",
    "ggplot(age_summary, aes(x = PERSON_AGE, y = PROBABILITY_PER_AGE)) +\n",
    "  geom_point(color = \"red\", size = 2) +  \n",
    "  labs(title = \"Likelihood of Injury or Fatality by Age\", x = \"Age\", y = \"Likelihood of Injury or Fatality\") + theme_minimal()\n"
   ]
  },
  {
   "cell_type": "markdown",
   "metadata": {},
   "source": [
    "There seems to be some outliers at the ends of the age spectrum as seen by the graph, but there is also a clear curve and parabolic relationship that `PERSON_AGE` has with injury and fatalities. We will adjust our model accordingly, adding the poly() function as well as filtering out any non-significant relationships between predictors."
   ]
  },
  {
   "cell_type": "markdown",
   "metadata": {},
   "source": [
    "# **Final Model**"
   ]
  },
  {
   "cell_type": "code",
   "execution_count": null,
   "metadata": {
    "vscode": {
     "languageId": "r"
    }
   },
   "outputs": [],
   "source": [
    "vehicle_data <- vehicle_data %>% \n",
    "  filter(TYPE_OF_VEHICLE != \"Large Vehicles\")\n",
    "\n",
    "mod3 <- glm(INJURY_OR_FATALITY ~ BOROUGH + TYPE_OF_VEHICLE + PERSON_SEX + \n",
    "              DRIVER_LICENSE_STATUS + poly(PERSON_AGE,2), \n",
    "            data = vehicle_data, family = \"binomial\")\n",
    "\n",
    "summary(mod3)\n",
    "\n",
    "hoslem.test(vehicle_data$INJURY_OR_FATALITY, fitted(mod3))\n",
    "\n",
    "null_mod2 <- glm(INJURY_OR_FATALITY ~ 1, data = vehicle_data, family = \"binomial\")\n",
    "\n",
    "anova(null_mod2, mod3, test = \"Chisq\")"
   ]
  },
  {
   "cell_type": "markdown",
   "metadata": {},
   "source": [
    "Success! We now have a model that aligns with the data and is signficant. \n",
    "\n",
    "## **Conclusions From Significant Predictors**:\n",
    "\n",
    "Conclusions from Borough\n",
    "* Manhattan has the lowest probability of injury/fatality (Estimate: -1.035, p < 0.001).\n",
    "* The Bronx, Brooklyn, and Queens also show lower odds, though less significantly than Manhattan.\n",
    "* Accidents in Manhattan are significantly less likely to result in injuries or fatalities compared to the baseline borough (Staten Island) which might be because of high traffic and less high speed collisions. Further research would be needed to fully explain what is causing this decrease in injuries or fatalities in the boroughs.\n",
    "\n",
    "Conclusions from Vehicle Type\n",
    "* Motorcycles have the highest risk (Estimate: 1.95, p < 0.001), meaning motorcycle crashes are much more likely to result in injury or death. Motorcycles don't have the same protections that other motor vehicles do, which could explain why this is the case. \n",
    "* Taxis/Livery vehicles also show a higher risk (Estimate: 0.28, p = 0.01).\n",
    "* SUVs and Sedans have increased risk compared to the baseline vehicle type.\n",
    "* Other vehicles show a slight negative effect (Estimate: -0.25, p = 0.047), suggesting they are less risky.\n",
    "\n",
    "Conclusions from Sex of Driver\n",
    "* Males are significantly less likely to be injured or killed in an accident (Estimate: -0.34, p < 0.001). This might warrant further research as to why this might be the case. \n",
    "* Females appear to have a higher risk of injury or fatality in accidents.\n",
    "\n",
    "Conclusion from Driver’s License Status\n",
    "* Licensed drivers are significantly less likely to be injured (Estimate: -0.41, p < 0.001).\n",
    "* Permit drivers shows no strong effect (p = 0.237).\n",
    "\n",
    "Conclusion from Age\n",
    "* Age has a significant non linear effect, modeled as a parabolic function in the regression model\n",
    "* The first order polynomial has a strong negative impact (Estimate: -32.87, p < 0.001).\n",
    "* The second order term has a positive effect (Estimate: 11.85, p = 0.0003).\n",
    "* This suggests that injury risk is higher at younger and older ages, following a U-shaped relationship. This makes sense intuitively as younger drivers tend to be risker with their driving and older drivers could be more prone to injury. "
   ]
  },
  {
   "cell_type": "markdown",
   "metadata": {},
   "source": [
    "# **Data Visualizations**\n",
    "\n",
    "Graphing the relationship between borough and injury/fatalities per 100,000 residents shows us the conclusion we got from our regression model. "
   ]
  },
  {
   "cell_type": "code",
   "execution_count": null,
   "metadata": {
    "vscode": {
     "languageId": "r"
    }
   },
   "outputs": [],
   "source": [
    "\n",
    "borough_pop <- data.frame(\n",
    "  BOROUGH = c(\"BRONX\", \"BROOKLYN\", \"MANHATTAN\", \"QUEENS\", \"STATEN ISLAND\"),\n",
    "  POPULATION = c(1379946, 2590516, 1596273, 2278029, 491133)\n",
    ")\n",
    "\n",
    "borough_pop$BOROUGH <- as.factor(borough_pop$BOROUGH)\n",
    "vehicle_data <- merge(vehicle_data, borough_pop, by = \"BOROUGH\")\n",
    "\n",
    "injury_or_fatality_summary <- vehicle_data %>%\n",
    "  group_by(BOROUGH) %>% summarize(INJURY_OR_FATALITY_COUNT = sum(INJURY_OR_FATALITY),\n",
    "                                  POPULATION = first(POPULATION)) %>%\n",
    "  mutate(RATE_PER_100K = (INJURY_OR_FATALITY_COUNT / POPULATION) * 100000)\n",
    "\n",
    "ggplot(injury_or_fatality_summary, aes(x = BOROUGH, y = RATE_PER_100K, fill = BOROUGH)) +\n",
    "  geom_bar(stat = \"identity\") + labs(title = \"Injuries or Fatalities per 100,000 Residents by Borough\",\n",
    "                                     x = \"Borough\", y = \"Rate per 100,000 Residents\") + theme_minimal() + theme(legend.position = \"none\")\n"
   ]
  },
  {
   "cell_type": "markdown",
   "metadata": {},
   "source": [
    "\n",
    "Graphing age again shows us clearly how younger and older drivers have higher injury risk. \n"
   ]
  },
  {
   "cell_type": "code",
   "execution_count": null,
   "metadata": {
    "vscode": {
     "languageId": "r"
    }
   },
   "outputs": [],
   "source": [
    "age_summary <- vehicle_data %>%\n",
    "  group_by(PERSON_AGE) %>%  \n",
    "  summarise(TOTAL_CASES = n(), INJURY_OR_FATALITY_COUNT = sum(INJURY_OR_FATALITY)) %>%\n",
    "  mutate(PROBABILITY_PER_AGE = INJURY_OR_FATALITY_COUNT / TOTAL_CASES)  \n",
    "\n",
    "ggplot(age_summary, aes(x = PERSON_AGE, y = PROBABILITY_PER_AGE)) +\n",
    "  geom_point(color = \"red\", size = 2) +  \n",
    "  labs(title = \"Likelihood of Injury or Fatality by Age\", x = \"Age\", y = \"Likelihood of Injury or Fatality\") + theme_minimal()\n"
   ]
  },
  {
   "cell_type": "markdown",
   "metadata": {},
   "source": [
    "# **Final Thoughts**\n",
    "Overall, this analysis identified key factors influencing injury and fatality risks in NYC. The borough of the accident, type of vehicle involved, driver's sex, and license status all play a significant role in determining the likelihood of an injury.\n",
    "\n",
    "From the findings, Manhattan stands out as the safest borough in terms of injury rates, likely due to lower speed collisions in traffic. Motorcycles pose by far the highest risk, reinforcing the need for improved safety measures for motorcyclists. Age has a U shaped relationship with injury/fatality, showing increased risk of both younger and older drivers.\n",
    "\n",
    "While many of these results align with intuition and observations, further research is needed to expand on the underlying reasons of some trends, such as why female drivers have higher injury rates than males or why unlicensed drivers appear less likely to be reported as injured. Future work could incorporate additional factors like time of day, brand of the vehicle, or traffic laws to refine risk assessments even further."
   ]
  }
 ],
 "metadata": {
  "kernelspec": {
   "display_name": "R",
   "language": "R",
   "name": "ir"
  },
  "language_info": {
   "codemirror_mode": "r",
   "file_extension": ".r",
   "mimetype": "text/x-r-source",
   "name": "R",
   "pygments_lexer": "r",
   "version": "4.4.1"
  }
 },
 "nbformat": 4,
 "nbformat_minor": 2
}
