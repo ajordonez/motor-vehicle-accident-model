{
 "cells": [
  {
   "cell_type": "markdown",
   "metadata": {},
   "source": [
    "# **Predictive Model for Motor Vehicle Accidents: Injury and Fatality Prevention and Intersection Safety  (January 2015 - December 2024)**\n",
    "\n",
    "#### *By Alejandro J. Ordonez*\n",
    "\n",
    "**Version 1.0.1**"
   ]
  },
  {
   "cell_type": "markdown",
   "metadata": {},
   "source": [
    "## **Project Overview**:\n",
    "\n",
    "This project outlines the motor vehicle (cars, trucks, buses, motorcycle) accident data in NYC, based on intersection characteristics, finding patterns within drivers, accident concentration by zip code, and commonalities among high risk areas and vehicles. \n",
    "\n",
    "##### **Our Goal**: \n",
    "\n",
    "This project aims to create a model to predict potential injury or fatalities based on variables given by NYPD public data. It also aims to create an interactive heat map for intersection collisions and provide a comprehensive look at where collisions are occuring in NYC.\n",
    "\n",
    "Further exploration of this model could aid insurance companies in adjusting premiums for high risk profiles and locations, provide government agencies with actionable data to improve traffic safety, and give new yorkers a compreshensive look at where accidents are occuring. \n",
    "\n",
    "We plan on doing so by analyzing historical accident data from the last 10 years, traffic patterns, and intersection structures. The predictive model will identify high risk areas and attempt to predict future accidents within a certain margin of error. \n",
    "\n",
    "##### **Methodology**: \n",
    "\n",
    "We plan on using NYC public data in order to create this model.\n",
    "\n",
    "We will be using SQL, and more specifically Google's RDBMS BigQuery to retrieve and clean data. \n",
    "\n",
    "We will be using R to help with statistical analysis on the cleaned dataset, as well as to create the logistical regression model for injury/fatality analysis. \n",
    "\n",
    "And finally we will be using Tableau to create a heat map of high risk areas and intersections with high counts of collisions. "
   ]
  },
  {
   "cell_type": "markdown",
   "metadata": {},
   "source": [
    "# **Data Collection**\n",
    "\n",
    "To get our dataset we looked on the NYC public data in order to find the motor vehicle accident data. \n",
    "\n",
    "We used this table for the personal profiles: https://data.cityofnewyork.us/Public-Safety/Motor-Vehicle-Collisions-Person/f55k-p6yu/about_data\n",
    "\n",
    "We used this table for the collision in the intersection: https://data.cityofnewyork.us/Public-Safety/Motor-Vehicle-Collisions-Crashes/h9gi-nx95/about_data\n",
    "\n",
    "We used this table for the specific vehicles in the crashes: https://data.cityofnewyork.us/Public-Safety/Motor-Vehicle-Collisions-Vehicles/bm4k-52h4/about_data\n",
    "\n",
    "All of the data that we have collected will be stored into a personal Google Cloud and we will use Google's BigQuery in order to query the data. \n",
    "\n",
    "**For this project we will refer to the dataset as `insurance` and the tables as `insurance.persons`, `insurance.crashes`, and `insurance.vehicles` respectively.**"
   ]
  },
  {
   "cell_type": "markdown",
   "metadata": {},
   "source": [
    "# **Data Cleaning**\n",
    "\n",
    "As of now, SQL queries in this notebook do not run, however the final product is in the `motor-vehicle-accident-model` repo under the csv: `clean_motor_vehicle_table`. The following steps document the data cleaning that created the CSV we will be using. \n",
    "\n",
    "Using BigQuery, we will first clean the first table, `insurance.persons`. We will filter out null values for relevant fields and select data in between 2015-2024. "
   ]
  },
  {
   "cell_type": "code",
   "execution_count": null,
   "metadata": {
    "vscode": {
     "languageId": "r"
    }
   },
   "outputs": [],
   "source": [
    "\"\n",
    "SELECT *\n",
    "FROM \n",
    "  `insurance.persons`\n",
    "WHERE\n",
    "  `CRASH_DATE` BETWEEN '2015-01-01' AND '2024-12-01'\n",
    "  AND PERSON_TYPE IS NOT NULL\n",
    "  AND PERSON_AGE IS NOT NULL \n",
    "  AND PERSON_AGE >0 \n",
    "  AND PERSON_AGE <150\n",
    "  AND PERSON_SEX IS NOT NULL\n",
    "  AND COLLISION_ID IS NOT NULL\n",
    "  AND PERSON_TYPE = 'Occupant'\n",
    "  AND EMOTIONAL_STATUS IS NOT NULL\n",
    "  AND POSITION_IN_VEHICLE LIKE '%Driver%'\n",
    "  AND PERSON_INJURY IS NOT NULL\n",
    "\""
   ]
  },
  {
   "cell_type": "markdown",
   "metadata": {},
   "source": [
    "Now we will move onto the next table `insurance.crashes` where we will do largely the same thing as we did for the previous table. "
   ]
  },
  {
   "cell_type": "code",
   "execution_count": null,
   "metadata": {
    "vscode": {
     "languageId": "r"
    }
   },
   "outputs": [],
   "source": [
    "\"\n",
    "SELECT *\n",
    "FROM `insurance.crashes`\n",
    "WHERE\n",
    "   `CRASH DATE` BETWEEN '2015-01-01' AND '2024-12-01'\n",
    "    AND BOROUGH IS NOT NULL\n",
    "    AND `ZIP CODE` IS NOT NULL\n",
    "    AND `ZIP CODE` > 10000\n",
    "    AND COLLISION_ID IS NOT NULL\n",
    "    AND `NUMBER OF PERSONS KILLED` IS NOT NULL\n",
    "    AND `NUMBER OF PERSONS INJURED` IS NOT NULL\n",
    "\""
   ]
  },
  {
   "cell_type": "markdown",
   "metadata": {},
   "source": [
    "For the last table (`insurance.vehicles`) we need to condense down the types of vehicles from over 1000 into 11 types:\n",
    "\n",
    "(Sedan, SUV, Taxi, Pickup Truck, Van, Emergency Vehicle, Livery, Bus, Motorcycle, Bicycle, Truck, and Other)\n",
    "\n",
    "Like the other queries, we will also filter out null values for relevant fields and select data in between 2015-2024"
   ]
  },
  {
   "cell_type": "code",
   "execution_count": null,
   "metadata": {
    "vscode": {
     "languageId": "r"
    }
   },
   "outputs": [],
   "source": [
    "\"\n",
    "WITH cleaned_vehicles AS (\n",
    "    SELECT \n",
    "        COLLISION_ID,\n",
    "        DRIVER_LICENSE_STATUS,\n",
    "        UPPER(TRIM(VEHICLE_TYPE)) AS VEHICLE_TYPE,\n",
    "        DRIVER_SEX,\n",
    "        \n",
    "        --This case query will sort the type of vehicles (ex: motorcycles, trucks, sedans, SUVs) together\n",
    "        CASE \n",
    "            WHEN UPPER(TRIM(VEHICLE_TYPE)) LIKE '%SEDAN%' THEN 'Sedan'\n",
    "            WHEN UPPER(TRIM(VEHICLE_TYPE)) LIKE '%SPORT UTILITY%' OR UPPER(TRIM(VEHICLE_TYPE)) LIKE '%SUV%' OR UPPER(TRIM(VEHICLE_TYPE)) LIKE '%STATION WAGON%' THEN 'SUV'\n",
    "            WHEN UPPER(TRIM(VEHICLE_TYPE)) LIKE '%TAXI%' OR UPPER(TRIM(VEHICLE_TYPE)) LIKE '%CAB%' THEN 'Taxi'\n",
    "            WHEN UPPER(TRIM(VEHICLE_TYPE)) LIKE '%PICK%' OR UPPER(TRIM(VEHICLE_TYPE)) LIKE '%TRUCK%' THEN 'Pickup Truck'\n",
    "            WHEN UPPER(TRIM(VEHICLE_TYPE)) LIKE '%VAN%' THEN 'Van'\n",
    "            WHEN UPPER(TRIM(VEHICLE_TYPE)) LIKE '%AMBULANCE%' OR UPPER(TRIM(VEHICLE_TYPE)) LIKE '%FIRE TRUCK%' OR UPPER(TRIM(VEHICLE_TYPE)) LIKE '%FDNY%' \n",
    "                OR UPPER(TRIM(VEHICLE_TYPE)) LIKE '%POLICE%' OR UPPER(TRIM(VEHICLE_TYPE)) LIKE '%EMERGENCY%' OR UPPER(TRIM(VEHICLE_TYPE)) LIKE '%EMS%' THEN 'Emergency Vehicle'\n",
    "            WHEN UPPER(TRIM(VEHICLE_TYPE)) LIKE '%LIVERY%' OR UPPER(TRIM(VEHICLE_TYPE)) LIKE '%LIMO%' THEN 'Livery'\n",
    "            WHEN UPPER(TRIM(VEHICLE_TYPE)) LIKE '%BUS%' THEN 'Bus'\n",
    "            WHEN UPPER(TRIM(VEHICLE_TYPE)) LIKE '%MOTORCYCLE%' OR UPPER(TRIM(VEHICLE_TYPE)) LIKE '%SCOOTER%' OR UPPER(TRIM(VEHICLE_TYPE)) LIKE '%MOPED%' \n",
    "                OR UPPER(TRIM(VEHICLE_TYPE)) LIKE '%E-SCOOTER%' OR UPPER(TRIM(VEHICLE_TYPE)) LIKE '%MOTORBIKE%' OR UPPER(TRIM(VEHICLE_TYPE)) LIKE '%E-BIKE%' \n",
    "                OR UPPER(TRIM(VEHICLE_TYPE)) LIKE '%EBIKE%' OR UPPER(TRIM(VEHICLE_TYPE)) LIKE '%DIRT BIKE%' THEN 'Motorcycle'\n",
    "            WHEN UPPER(TRIM(VEHICLE_TYPE)) LIKE '%BICYCLE%' OR UPPER(TRIM(VEHICLE_TYPE)) LIKE '%E-BIKE%' THEN 'Bicycle'\n",
    "            WHEN UPPER(TRIM(VEHICLE_TYPE)) LIKE '%TRUCK%' OR UPPER(TRIM(VEHICLE_TYPE)) LIKE '%DUMP TRUCK%' OR UPPER(TRIM(VEHICLE_TYPE)) LIKE '%FLATBED%' \n",
    "                OR UPPER(TRIM(VEHICLE_TYPE)) LIKE '%TRACTOR TRAILER%' OR UPPER(TRIM(VEHICLE_TYPE)) LIKE '%MAIL TRUCK%' OR UPPER(TRIM(VEHICLE_TYPE)) LIKE '%GARBAGE%' THEN 'Truck'\n",
    "            ELSE 'Other'\n",
    "\n",
    "    END AS TYPE_OF_VEHICLE\n",
    "\n",
    "\n",
    "    FROM \n",
    "        `insurance.vehicles`\n",
    "    WHERE \n",
    "        `CRASH_DATE` BETWEEN '2015-01-01' AND '2024-12-01'\n",
    "        AND VEHICLE_TYPE IS NOT NULL\n",
    "        AND DRIVER_SEX IS NOT NULL\n",
    "        AND DRIVER_LICENSE_STATUS IS NOT NULL\n",
    "        AND COLLISION_ID IS NOT NULL\n",
    "\n",
    ")\n",
    "\n",
    "SELECT \n",
    "    DRIVER_LICENSE_STATUS,\n",
    "    TYPE_OF_VEHICLE,\n",
    "    DRIVER_SEX,\n",
    "    cleaned_vehicles.VEHICLE_TYPE\n",
    "FROM cleaned_vehicles\n",
    "\""
   ]
  },
  {
   "cell_type": "markdown",
   "metadata": {},
   "source": [
    "In this case, we used a common table expression \"cleaned_vehicles\" to first create a table then run the query. We will use this same methodology to combine the rest of the cleaned queries into one query and use **INNER JOIN** to combine the tables together. "
   ]
  },
  {
   "cell_type": "markdown",
   "metadata": {},
   "source": [
    "### Choosing Variables\n",
    "\n",
    "Now that we have the cleaned tables, we need to select what we will be pulling from the new joined table. Of the variables for our model, we will pull a few that are relevant and can be factored in R. We ended up with the following fields:\n",
    "\n",
    "* Crash date\n",
    "* Crash time\n",
    "* Borough\n",
    "* Zip code\n",
    "* Number of fatalities caused by crash\n",
    "* Number of persons injured by crash\n",
    "* Driver injury\n",
    "* Drivers license Status\n",
    "* Vehicle type\n",
    "* Age\n",
    "* Sex"
   ]
  },
  {
   "cell_type": "markdown",
   "metadata": {},
   "source": [
    "## **Final Model Query**"
   ]
  },
  {
   "cell_type": "code",
   "execution_count": null,
   "metadata": {
    "vscode": {
     "languageId": "r"
    }
   },
   "outputs": [],
   "source": [
    "\"\n",
    "--The following will be cleaning the data before joining them together\n",
    "\n",
    "--Cleaned insurance.crashes query\n",
    "WITH cleaned_crashes AS (\n",
    "  SELECT *\n",
    "  FROM `insurance.crashes`\n",
    "  WHERE\n",
    "    `CRASH DATE` BETWEEN '2015-01-01' AND '2024-12-01'\n",
    "    AND BOROUGH IS NOT NULL\n",
    "    AND `ZIP CODE` IS NOT NULL\n",
    "    AND `ZIP CODE` > 10000\n",
    "    AND COLLISION_ID IS NOT NULL\n",
    "    AND `NUMBER OF PERSONS KILLED` IS NOT NULL\n",
    "    AND `NUMBER OF PERSONS INJURED` IS NOT NULL\n",
    "\n",
    "),\n",
    "\n",
    "--Cleaned insurance.vehicles query\n",
    "cleaned_vehicles AS (\n",
    "    SELECT \n",
    "        COLLISION_ID,\n",
    "        DRIVER_LICENSE_STATUS,\n",
    "        UPPER(TRIM(VEHICLE_TYPE)) AS VEHICLE_TYPE,\n",
    "        DRIVER_SEX,\n",
    "        \n",
    "        #This case query will sort the type of vehicles (ex: motorcycles, trucks, sedans, SUVs) together\n",
    "        CASE \n",
    "            WHEN UPPER(TRIM(VEHICLE_TYPE)) LIKE '%SEDAN%' THEN 'Sedan'\n",
    "            WHEN UPPER(TRIM(VEHICLE_TYPE)) LIKE '%SPORT UTILITY%' OR UPPER(TRIM(VEHICLE_TYPE)) LIKE '%SUV%' OR UPPER(TRIM(VEHICLE_TYPE)) LIKE '%STATION WAGON%' THEN 'SUV'\n",
    "            WHEN UPPER(TRIM(VEHICLE_TYPE)) LIKE '%TAXI%' OR UPPER(TRIM(VEHICLE_TYPE)) LIKE '%CAB%' THEN 'Taxi'\n",
    "            WHEN UPPER(TRIM(VEHICLE_TYPE)) LIKE '%PICK%' OR UPPER(TRIM(VEHICLE_TYPE)) LIKE '%TRUCK%' THEN 'Pickup Truck'\n",
    "            WHEN UPPER(TRIM(VEHICLE_TYPE)) LIKE '%VAN%' THEN 'Van'\n",
    "            WHEN UPPER(TRIM(VEHICLE_TYPE)) LIKE '%AMBULANCE%' OR UPPER(TRIM(VEHICLE_TYPE)) LIKE '%FIRE TRUCK%' OR UPPER(TRIM(VEHICLE_TYPE)) LIKE '%FDNY%' \n",
    "                OR UPPER(TRIM(VEHICLE_TYPE)) LIKE '%POLICE%' OR UPPER(TRIM(VEHICLE_TYPE)) LIKE '%EMERGENCY%' OR UPPER(TRIM(VEHICLE_TYPE)) LIKE '%EMS%' THEN 'Emergency Vehicle'\n",
    "            WHEN UPPER(TRIM(VEHICLE_TYPE)) LIKE '%LIVERY%' OR UPPER(TRIM(VEHICLE_TYPE)) LIKE '%LIMO%' THEN 'Livery'\n",
    "            WHEN UPPER(TRIM(VEHICLE_TYPE)) LIKE '%BUS%' THEN 'Bus'\n",
    "            WHEN UPPER(TRIM(VEHICLE_TYPE)) LIKE '%MOTORCYCLE%' OR UPPER(TRIM(VEHICLE_TYPE)) LIKE '%SCOOTER%' OR UPPER(TRIM(VEHICLE_TYPE)) LIKE '%MOPED%' \n",
    "                OR UPPER(TRIM(VEHICLE_TYPE)) LIKE '%E-SCOOTER%' OR UPPER(TRIM(VEHICLE_TYPE)) LIKE '%MOTORBIKE%' OR UPPER(TRIM(VEHICLE_TYPE)) LIKE '%E-BIKE%' \n",
    "                OR UPPER(TRIM(VEHICLE_TYPE)) LIKE '%EBIKE%' OR UPPER(TRIM(VEHICLE_TYPE)) LIKE '%DIRT BIKE%' THEN 'Motorcycle'\n",
    "            WHEN UPPER(TRIM(VEHICLE_TYPE)) LIKE '%BICYCLE%' OR UPPER(TRIM(VEHICLE_TYPE)) LIKE '%E-BIKE%' THEN 'Bicycle'\n",
    "            WHEN UPPER(TRIM(VEHICLE_TYPE)) LIKE '%TRUCK%' OR UPPER(TRIM(VEHICLE_TYPE)) LIKE '%DUMP TRUCK%' OR UPPER(TRIM(VEHICLE_TYPE)) LIKE '%FLATBED%' \n",
    "                OR UPPER(TRIM(VEHICLE_TYPE)) LIKE '%TRACTOR TRAILER%' OR UPPER(TRIM(VEHICLE_TYPE)) LIKE '%MAIL TRUCK%' OR UPPER(TRIM(VEHICLE_TYPE)) LIKE '%GARBAGE%' THEN 'Truck'\n",
    "            ELSE 'Other'\n",
    "\n",
    "    END AS TYPE_OF_VEHICLE\n",
    "\n",
    "\n",
    "    FROM \n",
    "        `insurance.vehicles`\n",
    "    WHERE \n",
    "        `CRASH_DATE` BETWEEN '2015-01-01' AND '2024-12-01'\n",
    "        AND VEHICLE_TYPE IS NOT NULL\n",
    "        AND DRIVER_SEX IS NOT NULL\n",
    "        AND DRIVER_LICENSE_STATUS IS NOT NULL\n",
    "        AND COLLISION_ID IS NOT NULL\n",
    "\n",
    "),\n",
    "\n",
    "--Cleaned insurance.persons query\n",
    "cleaned_persons AS (\n",
    "  SELECT *\n",
    "  FROM `insurance.persons`\n",
    "  WHERE\n",
    "    `CRASH_DATE` BETWEEN '2015-01-01' AND '2024-12-01'\n",
    "    AND PERSON_TYPE IS NOT NULL\n",
    "    AND PERSON_AGE IS NOT NULL \n",
    "    AND PERSON_AGE >0 \n",
    "    AND PERSON_AGE <150\n",
    "    AND PERSON_SEX IS NOT NULL\n",
    "    AND COLLISION_ID IS NOT NULL\n",
    "    AND PERSON_TYPE = 'Occupant'\n",
    "    AND EMOTIONAL_STATUS IS NOT NULL\n",
    "    AND POSITION_IN_VEHICLE LIKE '%Driver%'\n",
    "    AND PERSON_INJURY IS NOT NULL\n",
    ")\n",
    "\n",
    "--Here we will begin the query with the cleaned data\n",
    "SELECT \n",
    "  c.`CRASH DATE`,\n",
    "  c.`CRASH TIME`,\n",
    "  c.BOROUGH,\n",
    "  c.`ZIP CODE`,\n",
    "  c.`NUMBER OF PERSONS KILLED`,\n",
    "  c.`NUMBER OF PERSONS INJURED`,\n",
    "  c.`CONTRIBUTING FACTOR VEHICLE 1`,\n",
    "  v.DRIVER_LICENSE_STATUS,\n",
    "  v.TYPE_OF_VEHICLE,\n",
    "  p.PERSON_INJURY,\n",
    "  p.PERSON_AGE,\n",
    "  p.PERSON_SEX,\n",
    "  COUNT(*) AS TOTAL_INCIDENTS\n",
    "\n",
    "--Here we will join the 3 tables together with COLLISION_ID, where we rename the tables as c for Crashes, p for Persons, and v for Vehicles\n",
    "FROM \n",
    "  cleaned_crashes AS c\n",
    "  INNER JOIN cleaned_vehicles AS v\n",
    "    ON c.COLLISION_ID = v.COLLISION_ID\n",
    "  INNER JOIN cleaned_persons AS p\n",
    "    ON c.COLLISION_ID = p.COLLISION_ID\n",
    "\n",
    "\n",
    "GROUP BY \n",
    "  c.`CRASH DATE`,\n",
    "  c.`CRASH TIME`,\n",
    "  c.BOROUGH,\n",
    "  c.`ZIP CODE`,\n",
    "  c.`NUMBER OF PERSONS KILLED`,\n",
    "  c.`NUMBER OF PERSONS INJURED`,\n",
    "  c.`CONTRIBUTING FACTOR VEHICLE 1`,\n",
    "  v.DRIVER_LICENSE_STATUS,\n",
    "  v.TYPE_OF_VEHICLE,\n",
    "  p.PERSON_INJURY,\n",
    "  p.PERSON_AGE,\n",
    "  p.PERSON_SEX\n",
    "\""
   ]
  },
  {
   "cell_type": "markdown",
   "metadata": {},
   "source": [
    "We now have a cleaned dataset with all of the variables for the model. Although the code above does not work in Jupyter notebook, the result is in the `motor-vehicle-accident-model` repo in my GitHub under the csv file `clean_motor_vehicle_table`. Now we can begin with the analysis in R. "
   ]
  },
  {
   "cell_type": "markdown",
   "metadata": {},
   "source": [
    "# **Model Data Analysis**\n",
    "\n",
    "Now we will use R to analyze the motor vehicle data we had just cleaned. First we will retrieve tidyverse and read the CSV file as \"vehicle_data\". "
   ]
  },
  {
   "cell_type": "code",
   "execution_count": null,
   "metadata": {
    "vscode": {
     "languageId": "r"
    }
   },
   "outputs": [],
   "source": [
    "#Optional, install all packages we will be using for this analysis:\n",
    "install.packages(\"tidyverse\")\n",
    "install.packages(\"RCurl\")\n",
    "install.packages(\"forcats\")\n",
    "install.packages(\"broom\")\n",
    "install.packages(\"ResourceSelection\")"
   ]
  },
  {
   "cell_type": "code",
   "execution_count": 9,
   "metadata": {
    "vscode": {
     "languageId": "r"
    }
   },
   "outputs": [
    {
     "name": "stderr",
     "output_type": "stream",
     "text": [
      "-- \u001b[1mAttaching core tidyverse packages\u001b[22m ------------------------ tidyverse 2.0.0 --\n",
      "\u001b[32mv\u001b[39m \u001b[34mdplyr    \u001b[39m 1.1.4     \u001b[32mv\u001b[39m \u001b[34mreadr    \u001b[39m 2.1.5\n",
      "\u001b[32mv\u001b[39m \u001b[34mforcats  \u001b[39m 1.0.0     \u001b[32mv\u001b[39m \u001b[34mstringr  \u001b[39m 1.5.1\n",
      "\u001b[32mv\u001b[39m \u001b[34mggplot2  \u001b[39m 3.5.1     \u001b[32mv\u001b[39m \u001b[34mtibble   \u001b[39m 3.2.1\n",
      "\u001b[32mv\u001b[39m \u001b[34mlubridate\u001b[39m 1.9.3     \u001b[32mv\u001b[39m \u001b[34mtidyr    \u001b[39m 1.3.1\n",
      "\u001b[32mv\u001b[39m \u001b[34mpurrr    \u001b[39m 1.0.2     \n",
      "-- \u001b[1mConflicts\u001b[22m ------------------------------------------ tidyverse_conflicts() --\n",
      "\u001b[31mx\u001b[39m \u001b[34mdplyr\u001b[39m::\u001b[32mfilter()\u001b[39m masks \u001b[34mstats\u001b[39m::filter()\n",
      "\u001b[31mx\u001b[39m \u001b[34mdplyr\u001b[39m::\u001b[32mlag()\u001b[39m    masks \u001b[34mstats\u001b[39m::lag()\n",
      "\u001b[36mi\u001b[39m Use the conflicted package (\u001b[3m\u001b[34m<http://conflicted.r-lib.org/>\u001b[39m\u001b[23m) to force all conflicts to become errors\n",
      "\n",
      "Attaching package: 'RCurl'\n",
      "\n",
      "\n",
      "The following object is masked from 'package:tidyr':\n",
      "\n",
      "    complete\n",
      "\n",
      "\n"
     ]
    },
    {
     "data": {
      "text/html": [
       "<table class=\"dataframe\">\n",
       "<caption>A data.frame: 6 x 13</caption>\n",
       "<thead>\n",
       "\t<tr><th></th><th scope=col>CRASH.DATE</th><th scope=col>CRASH.TIME</th><th scope=col>BOROUGH</th><th scope=col>ZIP.CODE</th><th scope=col>NUMBER.OF.PERSONS.KILLED</th><th scope=col>NUMBER.OF.PERSONS.INJURED</th><th scope=col>CONTRIBUTING.FACTOR.VEHICLE.1</th><th scope=col>DRIVER_LICENSE_STATUS</th><th scope=col>TYPE_OF_VEHICLE</th><th scope=col>PERSON_INJURY</th><th scope=col>PERSON_AGE</th><th scope=col>PERSON_SEX</th><th scope=col>TOTAL_INCIDENTS</th></tr>\n",
       "\t<tr><th></th><th scope=col>&lt;chr&gt;</th><th scope=col>&lt;chr&gt;</th><th scope=col>&lt;chr&gt;</th><th scope=col>&lt;int&gt;</th><th scope=col>&lt;int&gt;</th><th scope=col>&lt;int&gt;</th><th scope=col>&lt;chr&gt;</th><th scope=col>&lt;chr&gt;</th><th scope=col>&lt;chr&gt;</th><th scope=col>&lt;chr&gt;</th><th scope=col>&lt;int&gt;</th><th scope=col>&lt;chr&gt;</th><th scope=col>&lt;int&gt;</th></tr>\n",
       "</thead>\n",
       "<tbody>\n",
       "\t<tr><th scope=row>1</th><td>2/12/19</td><td>11:55</td><td>MANHATTAN</td><td>10001</td><td>0</td><td>0</td><td>Brakes Defective              </td><td>Licensed</td><td>Sedan</td><td>Unspecified</td><td>31</td><td>M</td><td>2</td></tr>\n",
       "\t<tr><th scope=row>2</th><td>3/13/17</td><td>14:21</td><td>MANHATTAN</td><td>10001</td><td>0</td><td>0</td><td>Following Too Closely         </td><td>Licensed</td><td>Sedan</td><td>Unspecified</td><td>67</td><td>F</td><td>1</td></tr>\n",
       "\t<tr><th scope=row>3</th><td>6/28/19</td><td>19:30</td><td>MANHATTAN</td><td>10001</td><td>0</td><td>0</td><td>Unsafe Lane Changing          </td><td>Licensed</td><td>SUV  </td><td>Unspecified</td><td>70</td><td>F</td><td>1</td></tr>\n",
       "\t<tr><th scope=row>4</th><td>7/26/19</td><td>16:00</td><td>MANHATTAN</td><td>10001</td><td>0</td><td>0</td><td>Following Too Closely         </td><td>Licensed</td><td>Sedan</td><td>Unspecified</td><td>78</td><td>M</td><td>1</td></tr>\n",
       "\t<tr><th scope=row>5</th><td>8/15/17</td><td>11:12</td><td>MANHATTAN</td><td>10001</td><td>0</td><td>0</td><td>Following Too Closely         </td><td>Licensed</td><td>Taxi </td><td>Unspecified</td><td>38</td><td>M</td><td>2</td></tr>\n",
       "\t<tr><th scope=row>6</th><td>3/30/18</td><td>17:10</td><td>MANHATTAN</td><td>10001</td><td>0</td><td>0</td><td>Driver Inattention/Distraction</td><td>Licensed</td><td>Sedan</td><td>Unspecified</td><td>62</td><td>M</td><td>1</td></tr>\n",
       "</tbody>\n",
       "</table>\n"
      ],
      "text/latex": [
       "A data.frame: 6 x 13\n",
       "\\begin{tabular}{r|lllllllllllll}\n",
       "  & CRASH.DATE & CRASH.TIME & BOROUGH & ZIP.CODE & NUMBER.OF.PERSONS.KILLED & NUMBER.OF.PERSONS.INJURED & CONTRIBUTING.FACTOR.VEHICLE.1 & DRIVER\\_LICENSE\\_STATUS & TYPE\\_OF\\_VEHICLE & PERSON\\_INJURY & PERSON\\_AGE & PERSON\\_SEX & TOTAL\\_INCIDENTS\\\\\n",
       "  & <chr> & <chr> & <chr> & <int> & <int> & <int> & <chr> & <chr> & <chr> & <chr> & <int> & <chr> & <int>\\\\\n",
       "\\hline\n",
       "\t1 & 2/12/19 & 11:55 & MANHATTAN & 10001 & 0 & 0 & Brakes Defective               & Licensed & Sedan & Unspecified & 31 & M & 2\\\\\n",
       "\t2 & 3/13/17 & 14:21 & MANHATTAN & 10001 & 0 & 0 & Following Too Closely          & Licensed & Sedan & Unspecified & 67 & F & 1\\\\\n",
       "\t3 & 6/28/19 & 19:30 & MANHATTAN & 10001 & 0 & 0 & Unsafe Lane Changing           & Licensed & SUV   & Unspecified & 70 & F & 1\\\\\n",
       "\t4 & 7/26/19 & 16:00 & MANHATTAN & 10001 & 0 & 0 & Following Too Closely          & Licensed & Sedan & Unspecified & 78 & M & 1\\\\\n",
       "\t5 & 8/15/17 & 11:12 & MANHATTAN & 10001 & 0 & 0 & Following Too Closely          & Licensed & Taxi  & Unspecified & 38 & M & 2\\\\\n",
       "\t6 & 3/30/18 & 17:10 & MANHATTAN & 10001 & 0 & 0 & Driver Inattention/Distraction & Licensed & Sedan & Unspecified & 62 & M & 1\\\\\n",
       "\\end{tabular}\n"
      ],
      "text/markdown": [
       "\n",
       "A data.frame: 6 x 13\n",
       "\n",
       "| <!--/--> | CRASH.DATE &lt;chr&gt; | CRASH.TIME &lt;chr&gt; | BOROUGH &lt;chr&gt; | ZIP.CODE &lt;int&gt; | NUMBER.OF.PERSONS.KILLED &lt;int&gt; | NUMBER.OF.PERSONS.INJURED &lt;int&gt; | CONTRIBUTING.FACTOR.VEHICLE.1 &lt;chr&gt; | DRIVER_LICENSE_STATUS &lt;chr&gt; | TYPE_OF_VEHICLE &lt;chr&gt; | PERSON_INJURY &lt;chr&gt; | PERSON_AGE &lt;int&gt; | PERSON_SEX &lt;chr&gt; | TOTAL_INCIDENTS &lt;int&gt; |\n",
       "|---|---|---|---|---|---|---|---|---|---|---|---|---|---|\n",
       "| 1 | 2/12/19 | 11:55 | MANHATTAN | 10001 | 0 | 0 | Brakes Defective               | Licensed | Sedan | Unspecified | 31 | M | 2 |\n",
       "| 2 | 3/13/17 | 14:21 | MANHATTAN | 10001 | 0 | 0 | Following Too Closely          | Licensed | Sedan | Unspecified | 67 | F | 1 |\n",
       "| 3 | 6/28/19 | 19:30 | MANHATTAN | 10001 | 0 | 0 | Unsafe Lane Changing           | Licensed | SUV   | Unspecified | 70 | F | 1 |\n",
       "| 4 | 7/26/19 | 16:00 | MANHATTAN | 10001 | 0 | 0 | Following Too Closely          | Licensed | Sedan | Unspecified | 78 | M | 1 |\n",
       "| 5 | 8/15/17 | 11:12 | MANHATTAN | 10001 | 0 | 0 | Following Too Closely          | Licensed | Taxi  | Unspecified | 38 | M | 2 |\n",
       "| 6 | 3/30/18 | 17:10 | MANHATTAN | 10001 | 0 | 0 | Driver Inattention/Distraction | Licensed | Sedan | Unspecified | 62 | M | 1 |\n",
       "\n"
      ],
      "text/plain": [
       "  CRASH.DATE CRASH.TIME BOROUGH   ZIP.CODE NUMBER.OF.PERSONS.KILLED\n",
       "1 2/12/19    11:55      MANHATTAN 10001    0                       \n",
       "2 3/13/17    14:21      MANHATTAN 10001    0                       \n",
       "3 6/28/19    19:30      MANHATTAN 10001    0                       \n",
       "4 7/26/19    16:00      MANHATTAN 10001    0                       \n",
       "5 8/15/17    11:12      MANHATTAN 10001    0                       \n",
       "6 3/30/18    17:10      MANHATTAN 10001    0                       \n",
       "  NUMBER.OF.PERSONS.INJURED CONTRIBUTING.FACTOR.VEHICLE.1 \n",
       "1 0                         Brakes Defective              \n",
       "2 0                         Following Too Closely         \n",
       "3 0                         Unsafe Lane Changing          \n",
       "4 0                         Following Too Closely         \n",
       "5 0                         Following Too Closely         \n",
       "6 0                         Driver Inattention/Distraction\n",
       "  DRIVER_LICENSE_STATUS TYPE_OF_VEHICLE PERSON_INJURY PERSON_AGE PERSON_SEX\n",
       "1 Licensed              Sedan           Unspecified   31         M         \n",
       "2 Licensed              Sedan           Unspecified   67         F         \n",
       "3 Licensed              SUV             Unspecified   70         F         \n",
       "4 Licensed              Sedan           Unspecified   78         M         \n",
       "5 Licensed              Taxi            Unspecified   38         M         \n",
       "6 Licensed              Sedan           Unspecified   62         M         \n",
       "  TOTAL_INCIDENTS\n",
       "1 2              \n",
       "2 1              \n",
       "3 1              \n",
       "4 1              \n",
       "5 2              \n",
       "6 1              "
      ]
     },
     "metadata": {},
     "output_type": "display_data"
    }
   ],
   "source": [
    "library(tidyverse)\n",
    "library(RCurl)\n",
    "raw_file <- getURL(\"https://raw.githubusercontent.com/ajordonez/motor-vehicle-accident-model/refs/heads/main/cleaned_data/clean_motor_vehicle_table.csv\")\n",
    "vehicle_data <- read.csv(text = raw_file)\n",
    "head(vehicle_data)"
   ]
  },
  {
   "cell_type": "markdown",
   "metadata": {},
   "source": [
    "We will now convert the following fields into factors for easier analysis"
   ]
  },
  {
   "cell_type": "code",
   "execution_count": 10,
   "metadata": {
    "vscode": {
     "languageId": "r"
    }
   },
   "outputs": [
    {
     "data": {
      "text/html": [
       "<style>\n",
       ".list-inline {list-style: none; margin:0; padding: 0}\n",
       ".list-inline>li {display: inline-block}\n",
       ".list-inline>li:not(:last-child)::after {content: \"\\00b7\"; padding: 0 .5ex}\n",
       "</style>\n",
       "<ol class=list-inline><li>'Unlicensed'</li><li>'Permit'</li><li>'Licensed'</li></ol>\n"
      ],
      "text/latex": [
       "\\begin{enumerate*}\n",
       "\\item 'Unlicensed'\n",
       "\\item 'Permit'\n",
       "\\item 'Licensed'\n",
       "\\end{enumerate*}\n"
      ],
      "text/markdown": [
       "1. 'Unlicensed'\n",
       "2. 'Permit'\n",
       "3. 'Licensed'\n",
       "\n",
       "\n"
      ],
      "text/plain": [
       "[1] \"Unlicensed\" \"Permit\"     \"Licensed\"  "
      ]
     },
     "metadata": {},
     "output_type": "display_data"
    }
   ],
   "source": [
    "vehicle_data$BOROUGH <- as.factor(vehicle_data$BOROUGH)\n",
    "vehicle_data$BOROUGH <- relevel(factor(vehicle_data$BOROUGH), ref = \"STATEN ISLAND\")\n",
    "vehicle_data$PERSON_INJURY <- as.factor(vehicle_data$PERSON_INJURY)\n",
    "vehicle_data$PERSON_SEX <- as.factor(vehicle_data$PERSON_SEX)\n",
    "vehicle_data$DRIVER_LICENSE_STATUS <- factor(vehicle_data$DRIVER_LICENSE_STATUS, \n",
    "                                           levels = c(\"Unlicensed\", \"Permit\", \"Licensed\"), \n",
    "                                           ordered = TRUE)\n",
    "vehicle_data$TYPE_OF_VEHICLE <- as.factor(vehicle_data$TYPE_OF_VEHICLE)\n",
    "\n",
    "#Make sure that for drivers license status it is ordered\n",
    "levels(vehicle_data$DRIVER_LICENSE_STATUS)\n"
   ]
  },
  {
   "cell_type": "markdown",
   "metadata": {},
   "source": [
    "We now have most of the variables as factors, but we also have age as a factor for our model. We will now check to make sure for age, no values fall out of reasonable driver age."
   ]
  },
  {
   "cell_type": "code",
   "execution_count": 11,
   "metadata": {
    "vscode": {
     "languageId": "r"
    }
   },
   "outputs": [
    {
     "data": {
      "text/html": [
       "145"
      ],
      "text/latex": [
       "145"
      ],
      "text/markdown": [
       "145"
      ],
      "text/plain": [
       "[1] 145"
      ]
     },
     "metadata": {},
     "output_type": "display_data"
    },
    {
     "data": {
      "text/html": [
       "1"
      ],
      "text/latex": [
       "1"
      ],
      "text/markdown": [
       "1"
      ],
      "text/plain": [
       "[1] 1"
      ]
     },
     "metadata": {},
     "output_type": "display_data"
    }
   ],
   "source": [
    "max(vehicle_data$PERSON_AGE); min(vehicle_data$PERSON_AGE)"
   ]
  },
  {
   "cell_type": "markdown",
   "metadata": {},
   "source": [
    "We can see that the minimum is 1 and maximum is 145. This is not realistic and was probably due to data entry error. We will make the minimum value 12 and maximum 100 for this analysis.\n"
   ]
  },
  {
   "cell_type": "code",
   "execution_count": 12,
   "metadata": {
    "vscode": {
     "languageId": "r"
    }
   },
   "outputs": [],
   "source": [
    "vehicle_data <- vehicle_data %>% filter(PERSON_AGE >= 16, PERSON_AGE < 100)"
   ]
  },
  {
   "cell_type": "markdown",
   "metadata": {},
   "source": [
    "For our injury/fatality analysis, we also need to make a seperate field so that we can check if the collision cause any injuries or fatalities."
   ]
  },
  {
   "cell_type": "code",
   "execution_count": 13,
   "metadata": {
    "vscode": {
     "languageId": "r"
    }
   },
   "outputs": [],
   "source": [
    "vehicle_data <- vehicle_data %>%\n",
    "  mutate(INJURY_OR_FATALITY = ifelse(PERSON_INJURY %in% c(\"Injured\", \"Killed\"), TRUE, FALSE))"
   ]
  },
  {
   "cell_type": "markdown",
   "metadata": {},
   "source": [
    "After a quick check on the count of TYPE_OF_VEHICLES with our newly created INJURY_OR_FATALITY column"
   ]
  },
  {
   "cell_type": "code",
   "execution_count": 14,
   "metadata": {
    "vscode": {
     "languageId": "r"
    }
   },
   "outputs": [
    {
     "data": {
      "text/plain": [
       "                   \n",
       "                    FALSE  TRUE\n",
       "  Bus                1919   136\n",
       "  Emergency Vehicle   371    26\n",
       "  Livery               23     0\n",
       "  Motorcycle          679   409\n",
       "  Other              2181   125\n",
       "  Pickup Truck       5390   375\n",
       "  SUV               22625  2665\n",
       "  Sedan             29201  3679\n",
       "  Taxi               3791   277\n",
       "  Truck               188    10\n",
       "  Van                 863    62"
      ]
     },
     "metadata": {},
     "output_type": "display_data"
    }
   ],
   "source": [
    "table(vehicle_data$TYPE_OF_VEHICLE, vehicle_data$INJURY_OR_FATALITY)"
   ]
  },
  {
   "cell_type": "markdown",
   "metadata": {},
   "source": [
    "We can see that ***Livery*** (Limo services) has less than 30 instances, meaning it might cause our model some errors as a variable. We will combine ***Livery*** with Taxi services for this analysis as they both functionally do similar things, drive a paying client/passenger from one place to another."
   ]
  },
  {
   "cell_type": "code",
   "execution_count": 15,
   "metadata": {
    "vscode": {
     "languageId": "r"
    }
   },
   "outputs": [],
   "source": [
    "library(forcats)\n",
    "vehicle_data <- vehicle_data %>%\n",
    "  mutate(TYPE_OF_VEHICLE = fct_collapse(TYPE_OF_VEHICLE, \"Taxi/Livery\" = c(\"Livery\", \"Taxi\")))"
   ]
  },
  {
   "cell_type": "markdown",
   "metadata": {},
   "source": [
    "When checking `PERSON_SEX`, we can see that it has 3 factors"
   ]
  },
  {
   "cell_type": "code",
   "execution_count": 16,
   "metadata": {
    "vscode": {
     "languageId": "r"
    }
   },
   "outputs": [
    {
     "data": {
      "text/html": [
       "<style>\n",
       ".list-inline {list-style: none; margin:0; padding: 0}\n",
       ".list-inline>li {display: inline-block}\n",
       ".list-inline>li:not(:last-child)::after {content: \"\\00b7\"; padding: 0 .5ex}\n",
       "</style>\n",
       "<ol class=list-inline><li>M</li><li>F</li><li>U</li></ol>\n",
       "\n",
       "<details>\n",
       "\t<summary style=display:list-item;cursor:pointer>\n",
       "\t\t<strong>Levels</strong>:\n",
       "\t</summary>\n",
       "\t<style>\n",
       "\t.list-inline {list-style: none; margin:0; padding: 0}\n",
       "\t.list-inline>li {display: inline-block}\n",
       "\t.list-inline>li:not(:last-child)::after {content: \"\\00b7\"; padding: 0 .5ex}\n",
       "\t</style>\n",
       "\t<ol class=list-inline><li>'F'</li><li>'M'</li><li>'U'</li></ol>\n",
       "</details>"
      ],
      "text/latex": [
       "\\begin{enumerate*}\n",
       "\\item M\n",
       "\\item F\n",
       "\\item U\n",
       "\\end{enumerate*}\n",
       "\n",
       "\\emph{Levels}: \\begin{enumerate*}\n",
       "\\item 'F'\n",
       "\\item 'M'\n",
       "\\item 'U'\n",
       "\\end{enumerate*}\n"
      ],
      "text/markdown": [
       "1. M\n",
       "2. F\n",
       "3. U\n",
       "\n",
       "\n",
       "\n",
       "**Levels**: 1. 'F'\n",
       "2. 'M'\n",
       "3. 'U'\n",
       "\n",
       "\n"
      ],
      "text/plain": [
       "[1] M F U\n",
       "Levels: F M U"
      ]
     },
     "metadata": {},
     "output_type": "display_data"
    },
    {
     "data": {
      "text/html": [
       "118"
      ],
      "text/latex": [
       "118"
      ],
      "text/markdown": [
       "118"
      ],
      "text/plain": [
       "[1] 118"
      ]
     },
     "metadata": {},
     "output_type": "display_data"
    }
   ],
   "source": [
    "unique(vehicle_data$PERSON_SEX)\n",
    "\n",
    "#Checks how many instances of unknown sex there are\n",
    "sum(vehicle_data$PERSON_SEX == \"U\", na.rm = TRUE)"
   ]
  },
  {
   "cell_type": "markdown",
   "metadata": {},
   "source": [
    "For our regression model we will want to use Male and Female for `PERSON_SEX`. We will filter out the unknown sex for this analysis. "
   ]
  },
  {
   "cell_type": "code",
   "execution_count": 17,
   "metadata": {
    "vscode": {
     "languageId": "r"
    }
   },
   "outputs": [],
   "source": [
    "vehicle_data <- vehicle_data %>% \n",
    "  filter(PERSON_SEX != \"U\")"
   ]
  },
  {
   "cell_type": "markdown",
   "metadata": {},
   "source": [
    "#### **NOTE: The following will show the processes to get the final model. If you would like to skip to the final model, run the code for the following steps and go to \"Final Regression Model\"**\n",
    "\n",
    "Now it is time to make the first model, we will use a logistical regression model. We chose logistical regression as we are trying to find whether or not (True or False), the variables are factors for injury or fatality. "
   ]
  },
  {
   "cell_type": "code",
   "execution_count": 18,
   "metadata": {
    "vscode": {
     "languageId": "r"
    }
   },
   "outputs": [
    {
     "data": {
      "text/plain": [
       "\n",
       "Call:\n",
       "glm(formula = INJURY_OR_FATALITY ~ BOROUGH + TYPE_OF_VEHICLE + \n",
       "    PERSON_SEX + DRIVER_LICENSE_STATUS + PERSON_AGE, family = \"binomial\", \n",
       "    data = vehicle_data)\n",
       "\n",
       "Coefficients:\n",
       "                                   Estimate Std. Error z value Pr(>|z|)    \n",
       "(Intercept)                      -1.3144069  0.1182075 -11.119  < 2e-16 ***\n",
       "BOROUGHBRONX                     -0.2260696  0.0623448  -3.626 0.000288 ***\n",
       "BOROUGHBROOKLYN                  -0.2440190  0.0590795  -4.130 3.62e-05 ***\n",
       "BOROUGHMANHATTAN                 -1.0697598  0.0657108 -16.280  < 2e-16 ***\n",
       "BOROUGHQUEENS                    -0.2426115  0.0594264  -4.083 4.45e-05 ***\n",
       "TYPE_OF_VEHICLEEmergency Vehicle -0.1958506  0.2259681  -0.867 0.386097    \n",
       "TYPE_OF_VEHICLETaxi/Livery        0.2954076  0.1096340   2.694 0.007050 ** \n",
       "TYPE_OF_VEHICLEMotorcycle         1.9631064  0.1110789  17.673  < 2e-16 ***\n",
       "TYPE_OF_VEHICLEOther             -0.2503379  0.1287582  -1.944 0.051866 .  \n",
       "TYPE_OF_VEHICLEPickup Truck      -0.0221766  0.1043254  -0.213 0.831662    \n",
       "TYPE_OF_VEHICLESUV                0.3574697  0.0917630   3.896 9.80e-05 ***\n",
       "TYPE_OF_VEHICLESedan              0.4173251  0.0911714   4.577 4.71e-06 ***\n",
       "TYPE_OF_VEHICLETruck             -0.2296665  0.3379597  -0.680 0.496778    \n",
       "TYPE_OF_VEHICLEVan                0.0924262  0.1597270   0.579 0.562825    \n",
       "PERSON_SEXM                      -0.3769461  0.0262453 -14.362  < 2e-16 ***\n",
       "DRIVER_LICENSE_STATUS.L          -0.3100090  0.0478031  -6.485 8.87e-11 ***\n",
       "DRIVER_LICENSE_STATUS.Q          -0.0595827  0.0812636  -0.733 0.463435    \n",
       "PERSON_AGE                       -0.0083315  0.0008403  -9.915  < 2e-16 ***\n",
       "---\n",
       "Signif. codes:  0 '***' 0.001 '**' 0.01 '*' 0.05 '.' 0.1 ' ' 1\n",
       "\n",
       "(Dispersion parameter for binomial family taken to be 1)\n",
       "\n",
       "    Null deviance: 49834  on 74876  degrees of freedom\n",
       "Residual deviance: 47877  on 74859  degrees of freedom\n",
       "AIC: 47913\n",
       "\n",
       "Number of Fisher Scoring iterations: 5\n"
      ]
     },
     "metadata": {},
     "output_type": "display_data"
    },
    {
     "name": "stdout",
     "output_type": "stream",
     "text": [
      "                          GVIF Df GVIF^(1/(2*Df))\n",
      "BOROUGH               1.060963  4        1.007425\n",
      "TYPE_OF_VEHICLE       1.125322  9        1.006581\n",
      "PERSON_SEX            1.026720  1        1.013272\n",
      "DRIVER_LICENSE_STATUS 1.059843  2        1.014636\n",
      "PERSON_AGE            1.012116  1        1.006040\n"
     ]
    }
   ],
   "source": [
    "mod1 <- glm(INJURY_OR_FATALITY ~ BOROUGH+TYPE_OF_VEHICLE+PERSON_SEX+DRIVER_LICENSE_STATUS+PERSON_AGE, data = vehicle_data, family = \"binomial\")\n",
    "summary(mod1)\n",
    "\n",
    "#Calculate multicollinearity using the VIF (Variance Inflation Factor) function\n",
    "vif_mod1 <- car::vif(mod1)\n",
    "print(vif_mod1)"
   ]
  },
  {
   "cell_type": "markdown",
   "metadata": {},
   "source": [
    "As we can see from the first model, we have variables that are statistically significant and many others that aren't. We will now do a **Chi-Square** and **Hosmer-Lemeshow** tests to check if the model is better at predicting outcomes than the null model and aligns with the data."
   ]
  },
  {
   "cell_type": "code",
   "execution_count": 19,
   "metadata": {
    "vscode": {
     "languageId": "r"
    }
   },
   "outputs": [
    {
     "data": {
      "text/html": [
       "<table class=\"dataframe\">\n",
       "<caption>A anova: 2 x 5</caption>\n",
       "<thead>\n",
       "\t<tr><th></th><th scope=col>Resid. Df</th><th scope=col>Resid. Dev</th><th scope=col>Df</th><th scope=col>Deviance</th><th scope=col>Pr(&gt;Chi)</th></tr>\n",
       "\t<tr><th></th><th scope=col>&lt;dbl&gt;</th><th scope=col>&lt;dbl&gt;</th><th scope=col>&lt;dbl&gt;</th><th scope=col>&lt;dbl&gt;</th><th scope=col>&lt;dbl&gt;</th></tr>\n",
       "</thead>\n",
       "<tbody>\n",
       "\t<tr><th scope=row>1</th><td>74876</td><td>49833.67</td><td>NA</td><td>      NA</td><td>NA</td></tr>\n",
       "\t<tr><th scope=row>2</th><td>74859</td><td>47876.99</td><td>17</td><td>1956.679</td><td> 0</td></tr>\n",
       "</tbody>\n",
       "</table>\n"
      ],
      "text/latex": [
       "A anova: 2 x 5\n",
       "\\begin{tabular}{r|lllll}\n",
       "  & Resid. Df & Resid. Dev & Df & Deviance & Pr(>Chi)\\\\\n",
       "  & <dbl> & <dbl> & <dbl> & <dbl> & <dbl>\\\\\n",
       "\\hline\n",
       "\t1 & 74876 & 49833.67 & NA &       NA & NA\\\\\n",
       "\t2 & 74859 & 47876.99 & 17 & 1956.679 &  0\\\\\n",
       "\\end{tabular}\n"
      ],
      "text/markdown": [
       "\n",
       "A anova: 2 x 5\n",
       "\n",
       "| <!--/--> | Resid. Df &lt;dbl&gt; | Resid. Dev &lt;dbl&gt; | Df &lt;dbl&gt; | Deviance &lt;dbl&gt; | Pr(&gt;Chi) &lt;dbl&gt; |\n",
       "|---|---|---|---|---|---|\n",
       "| 1 | 74876 | 49833.67 | NA |       NA | NA |\n",
       "| 2 | 74859 | 47876.99 | 17 | 1956.679 |  0 |\n",
       "\n"
      ],
      "text/plain": [
       "  Resid. Df Resid. Dev Df Deviance Pr(>Chi)\n",
       "1 74876     49833.67   NA       NA NA      \n",
       "2 74859     47876.99   17 1956.679  0      "
      ]
     },
     "metadata": {},
     "output_type": "display_data"
    },
    {
     "name": "stderr",
     "output_type": "stream",
     "text": [
      "ResourceSelection 0.3-6 \t 2023-06-27\n",
      "\n"
     ]
    },
    {
     "data": {
      "text/plain": [
       "\n",
       "\tHosmer and Lemeshow goodness of fit (GOF) test\n",
       "\n",
       "data:  vehicle_data$INJURY_OR_FATALITY, fitted(mod1)\n",
       "X-squared = 24.284, df = 8, p-value = 0.002054\n"
      ]
     },
     "metadata": {},
     "output_type": "display_data"
    }
   ],
   "source": [
    "null_mod1 <- glm(INJURY_OR_FATALITY ~ 1, data = vehicle_data, family = \"binomial\")\n",
    "anova(null_mod1, mod1, test = \"Chisq\")\n",
    "\n",
    "#Testing now to see how well the model fits with the data\n",
    "library(ResourceSelection)\n",
    "hoslem.test(vehicle_data$INJURY_OR_FATALITY, fitted(mod1))"
   ]
  },
  {
   "cell_type": "markdown",
   "metadata": {},
   "source": [
    "We can see from the result that the **Chi-Squared** test came out as signficant, meaning that our model was better than the null model at predicting injury and fatalities. However we see the **Hosmer-Lemeshow** test came back significant, meaning our model doesn't fit the data inputted. This means that our model needs some work. "
   ]
  },
  {
   "cell_type": "markdown",
   "metadata": {},
   "source": [
    "To work on the current model, let us combine some of the non-significant variables. We will combine larger vehicles (ex: Vans, Trucks, Buses, Emergency vehicles) into one category called `Large Vehicles`. After we will re-run the model as `mod2`."
   ]
  },
  {
   "cell_type": "code",
   "execution_count": 20,
   "metadata": {
    "vscode": {
     "languageId": "r"
    }
   },
   "outputs": [
    {
     "data": {
      "text/plain": [
       "\n",
       "Call:\n",
       "glm(formula = INJURY_OR_FATALITY ~ BOROUGH + TYPE_OF_VEHICLE + \n",
       "    PERSON_SEX + DRIVER_LICENSE_STATUS + PERSON_AGE, family = \"binomial\", \n",
       "    data = vehicle_data)\n",
       "\n",
       "Coefficients:\n",
       "                               Estimate Std. Error z value Pr(>|z|)    \n",
       "(Intercept)                   -1.314977   0.118205 -11.125  < 2e-16 ***\n",
       "BOROUGHBRONX                  -0.226647   0.062336  -3.636 0.000277 ***\n",
       "BOROUGHBROOKLYN               -0.243862   0.059074  -4.128 3.66e-05 ***\n",
       "BOROUGHMANHATTAN              -1.068820   0.065697 -16.269  < 2e-16 ***\n",
       "BOROUGHQUEENS                 -0.242557   0.059425  -4.082 4.47e-05 ***\n",
       "TYPE_OF_VEHICLELarge Vehicles -0.022757   0.101423  -0.224 0.822460    \n",
       "TYPE_OF_VEHICLETaxi/Livery     0.295171   0.109632   2.692 0.007095 ** \n",
       "TYPE_OF_VEHICLEMotorcycle      1.962975   0.111078  17.672  < 2e-16 ***\n",
       "TYPE_OF_VEHICLEOther          -0.250448   0.128757  -1.945 0.051762 .  \n",
       "TYPE_OF_VEHICLESUV             0.357557   0.091762   3.897 9.76e-05 ***\n",
       "TYPE_OF_VEHICLESedan           0.417431   0.091170   4.579 4.68e-06 ***\n",
       "PERSON_SEXM                   -0.376781   0.026243 -14.357  < 2e-16 ***\n",
       "DRIVER_LICENSE_STATUS.L       -0.310675   0.047804  -6.499 8.09e-11 ***\n",
       "DRIVER_LICENSE_STATUS.Q       -0.059406   0.081262  -0.731 0.464751    \n",
       "PERSON_AGE                    -0.008315   0.000840  -9.899  < 2e-16 ***\n",
       "---\n",
       "Signif. codes:  0 '***' 0.001 '**' 0.01 '*' 0.05 '.' 0.1 ' ' 1\n",
       "\n",
       "(Dispersion parameter for binomial family taken to be 1)\n",
       "\n",
       "    Null deviance: 49834  on 74876  degrees of freedom\n",
       "Residual deviance: 47879  on 74862  degrees of freedom\n",
       "AIC: 47909\n",
       "\n",
       "Number of Fisher Scoring iterations: 5\n"
      ]
     },
     "metadata": {},
     "output_type": "display_data"
    },
    {
     "data": {
      "text/plain": [
       "\n",
       "\tHosmer and Lemeshow goodness of fit (GOF) test\n",
       "\n",
       "data:  vehicle_data$INJURY_OR_FATALITY, fitted(mod2)\n",
       "X-squared = 23.345, df = 8, p-value = 0.002948\n"
      ]
     },
     "metadata": {},
     "output_type": "display_data"
    }
   ],
   "source": [
    "vehicle_data$TYPE_OF_VEHICLE <- fct_collapse(vehicle_data$TYPE_OF_VEHICLE,\n",
    "                                             \"Large Vehicles\" = c(\"Truck\", \"Pickup Truck\", \"Van\", \"Emergency Vehicle\"))\n",
    "\n",
    "mod2 <- glm(INJURY_OR_FATALITY ~ BOROUGH + TYPE_OF_VEHICLE + PERSON_SEX + \n",
    "              DRIVER_LICENSE_STATUS + PERSON_AGE, \n",
    "            data = vehicle_data, family = \"binomial\")\n",
    "summary(mod2)\n",
    "\n",
    "hoslem.test(vehicle_data$INJURY_OR_FATALITY, fitted(mod2))\n"
   ]
  },
  {
   "cell_type": "markdown",
   "metadata": {},
   "source": [
    "We can see that the model still is not matching the data. Our only numerical data is `PERSON_AGE`. Let us check the graph to see if there is anything we can gather."
   ]
  },
  {
   "cell_type": "code",
   "execution_count": 21,
   "metadata": {
    "vscode": {
     "languageId": "r"
    }
   },
   "outputs": [
    {
     "data": {
      "image/png": "[encoded data removed]",
      "text/plain": [
       "plot without title"
      ]
     },
     "metadata": {
      "image/png": {
       "height": 420,
       "width": 420
      }
     },
     "output_type": "display_data"
    }
   ],
   "source": [
    "age_summary <- vehicle_data %>%\n",
    "  group_by(PERSON_AGE) %>%  \n",
    "  summarise(TOTAL_CASES = n(), INJURY_OR_FATALITY_COUNT = sum(INJURY_OR_FATALITY)) %>%\n",
    "  mutate(PROBABILITY_PER_AGE = INJURY_OR_FATALITY_COUNT / TOTAL_CASES)  \n",
    "\n",
    "ggplot(age_summary, aes(x = PERSON_AGE, y = PROBABILITY_PER_AGE)) +\n",
    "  geom_point(color = \"red\", size = 2) +  \n",
    "  labs(title = \"Likelihood of Injury or Fatality by Age\", x = \"Age\", y = \"Likelihood of Injury or Fatality\") + theme_minimal()\n"
   ]
  },
  {
   "cell_type": "markdown",
   "metadata": {},
   "source": [
    "There seems to be some outliers at the ends of the age spectrum as seen by the graph, but there is also a clear curve and parabolic relationship that `PERSON_AGE` has with injury and fatalities. We will adjust our model accordingly, adding the poly() function as well as filtering out any non-significant relationships between predictors."
   ]
  },
  {
   "cell_type": "markdown",
   "metadata": {},
   "source": [
    "# **Final Model**"
   ]
  },
  {
   "cell_type": "code",
   "execution_count": 22,
   "metadata": {
    "vscode": {
     "languageId": "r"
    }
   },
   "outputs": [
    {
     "data": {
      "text/plain": [
       "\n",
       "Call:\n",
       "glm(formula = INJURY_OR_FATALITY ~ BOROUGH + TYPE_OF_VEHICLE + \n",
       "    PERSON_SEX + DRIVER_LICENSE_STATUS + poly(PERSON_AGE, 2), \n",
       "    family = \"binomial\", data = vehicle_data)\n",
       "\n",
       "Coefficients:\n",
       "                            Estimate Std. Error z value Pr(>|z|)    \n",
       "(Intercept)                 -1.71928    0.11415 -15.061  < 2e-16 ***\n",
       "BOROUGHBRONX                -0.20698    0.06436  -3.216 0.001300 ** \n",
       "BOROUGHBROOKLYN             -0.22150    0.06091  -3.636 0.000276 ***\n",
       "BOROUGHMANHATTAN            -1.03520    0.06812 -15.197  < 2e-16 ***\n",
       "BOROUGHQUEENS               -0.22048    0.06118  -3.604 0.000314 ***\n",
       "TYPE_OF_VEHICLETaxi/Livery   0.28178    0.10967   2.569 0.010186 *  \n",
       "TYPE_OF_VEHICLEMotorcycle    1.95497    0.11111  17.595  < 2e-16 ***\n",
       "TYPE_OF_VEHICLEOther        -0.25479    0.12874  -1.979 0.047811 *  \n",
       "TYPE_OF_VEHICLESUV           0.35160    0.09177   3.831 0.000128 ***\n",
       "TYPE_OF_VEHICLESedan         0.40571    0.09122   4.447 8.69e-06 ***\n",
       "PERSON_SEXM                 -0.34443    0.02701 -12.753  < 2e-16 ***\n",
       "DRIVER_LICENSE_STATUS.L     -0.28711    0.04908  -5.850 4.90e-09 ***\n",
       "DRIVER_LICENSE_STATUS.Q     -0.05360    0.08261  -0.649 0.516484    \n",
       "poly(PERSON_AGE, 2)1       -32.86546    3.30209  -9.953  < 2e-16 ***\n",
       "poly(PERSON_AGE, 2)2        11.84546    3.25929   3.634 0.000279 ***\n",
       "---\n",
       "Signif. codes:  0 '***' 0.001 '**' 0.01 '*' 0.05 '.' 0.1 ' ' 1\n",
       "\n",
       "(Dispersion parameter for binomial family taken to be 1)\n",
       "\n",
       "    Null deviance: 46204  on 67609  degrees of freedom\n",
       "Residual deviance: 44503  on 67595  degrees of freedom\n",
       "AIC: 44533\n",
       "\n",
       "Number of Fisher Scoring iterations: 5\n"
      ]
     },
     "metadata": {},
     "output_type": "display_data"
    },
    {
     "data": {
      "text/plain": [
       "\n",
       "\tHosmer and Lemeshow goodness of fit (GOF) test\n",
       "\n",
       "data:  vehicle_data$INJURY_OR_FATALITY, fitted(mod3)\n",
       "X-squared = 12.321, df = 8, p-value = 0.1375\n"
      ]
     },
     "metadata": {},
     "output_type": "display_data"
    },
    {
     "data": {
      "text/html": [
       "<table class=\"dataframe\">\n",
       "<caption>A anova: 2 x 5</caption>\n",
       "<thead>\n",
       "\t<tr><th></th><th scope=col>Resid. Df</th><th scope=col>Resid. Dev</th><th scope=col>Df</th><th scope=col>Deviance</th><th scope=col>Pr(&gt;Chi)</th></tr>\n",
       "\t<tr><th></th><th scope=col>&lt;dbl&gt;</th><th scope=col>&lt;dbl&gt;</th><th scope=col>&lt;dbl&gt;</th><th scope=col>&lt;dbl&gt;</th><th scope=col>&lt;dbl&gt;</th></tr>\n",
       "</thead>\n",
       "<tbody>\n",
       "\t<tr><th scope=row>1</th><td>67609</td><td>46203.60</td><td>NA</td><td>     NA</td><td>NA</td></tr>\n",
       "\t<tr><th scope=row>2</th><td>67595</td><td>44502.91</td><td>14</td><td>1700.69</td><td> 0</td></tr>\n",
       "</tbody>\n",
       "</table>\n"
      ],
      "text/latex": [
       "A anova: 2 x 5\n",
       "\\begin{tabular}{r|lllll}\n",
       "  & Resid. Df & Resid. Dev & Df & Deviance & Pr(>Chi)\\\\\n",
       "  & <dbl> & <dbl> & <dbl> & <dbl> & <dbl>\\\\\n",
       "\\hline\n",
       "\t1 & 67609 & 46203.60 & NA &      NA & NA\\\\\n",
       "\t2 & 67595 & 44502.91 & 14 & 1700.69 &  0\\\\\n",
       "\\end{tabular}\n"
      ],
      "text/markdown": [
       "\n",
       "A anova: 2 x 5\n",
       "\n",
       "| <!--/--> | Resid. Df &lt;dbl&gt; | Resid. Dev &lt;dbl&gt; | Df &lt;dbl&gt; | Deviance &lt;dbl&gt; | Pr(&gt;Chi) &lt;dbl&gt; |\n",
       "|---|---|---|---|---|---|\n",
       "| 1 | 67609 | 46203.60 | NA |      NA | NA |\n",
       "| 2 | 67595 | 44502.91 | 14 | 1700.69 |  0 |\n",
       "\n"
      ],
      "text/plain": [
       "  Resid. Df Resid. Dev Df Deviance Pr(>Chi)\n",
       "1 67609     46203.60   NA      NA  NA      \n",
       "2 67595     44502.91   14 1700.69   0      "
      ]
     },
     "metadata": {},
     "output_type": "display_data"
    }
   ],
   "source": [
    "vehicle_data <- vehicle_data %>% \n",
    "  filter(TYPE_OF_VEHICLE != \"Large Vehicles\")\n",
    "\n",
    "mod3 <- glm(INJURY_OR_FATALITY ~ BOROUGH + TYPE_OF_VEHICLE + PERSON_SEX + \n",
    "              DRIVER_LICENSE_STATUS + poly(PERSON_AGE,2), \n",
    "            data = vehicle_data, family = \"binomial\")\n",
    "\n",
    "summary(mod3)\n",
    "\n",
    "hoslem.test(vehicle_data$INJURY_OR_FATALITY, fitted(mod3))\n",
    "\n",
    "null_mod2 <- glm(INJURY_OR_FATALITY ~ 1, data = vehicle_data, family = \"binomial\")\n",
    "\n",
    "anova(null_mod2, mod3, test = \"Chisq\")"
   ]
  },
  {
   "cell_type": "markdown",
   "metadata": {},
   "source": [
    "Success! We now have a model that aligns with the data and is signficant. \n",
    "\n",
    "## **Conclusions From Significant Predictors**:\n",
    "\n",
    "Conclusions from Borough\n",
    "* Manhattan has the lowest probability of injury/fatality (Estimate: -1.035, p < 0.001).\n",
    "* The Bronx, Brooklyn, and Queens also show lower odds, though less significantly than Manhattan.\n",
    "* Accidents in Manhattan are significantly less likely to result in injuries or fatalities compared to the baseline borough (Staten Island) which might be because of high traffic and less high speed collisions. Further research would be needed to fully explain what is causing this decrease in injuries or fatalities in the boroughs.\n",
    "\n",
    "Conclusions from Vehicle Type\n",
    "* Motorcycles have the highest risk (Estimate: 1.95, p < 0.001), meaning motorcycle crashes are much more likely to result in injury or death. Motorcycles don't have the same protections that other motor vehicles do, which could explain why this is the case. \n",
    "* Taxis/Livery vehicles also show a higher risk (Estimate: 0.28, p = 0.01).\n",
    "* SUVs and Sedans have increased risk compared to the baseline vehicle type.\n",
    "* Other vehicles show a slight negative effect (Estimate: -0.25, p = 0.047), suggesting they are less risky.\n",
    "\n",
    "Conclusions from Sex of Driver\n",
    "* Males are significantly less likely to be injured or killed in an accident (Estimate: -0.34, p < 0.001). This might warrant further research as to why this might be the case. \n",
    "* Females appear to have a higher risk of injury or fatality in accidents.\n",
    "\n",
    "Conclusion from Driver’s License Status\n",
    "* Licensed drivers are significantly less likely to be injured (Estimate: -0.41, p < 0.001).\n",
    "* Permit drivers shows no strong effect (p = 0.237).\n",
    "\n",
    "Conclusion from Age\n",
    "* Age has a significant non linear effect, modeled as a parabolic function in the regression model\n",
    "* The first order polynomial has a strong negative impact (Estimate: -32.87, p < 0.001).\n",
    "* The second order term has a positive effect (Estimate: 11.85, p = 0.0003).\n",
    "* This suggests that injury risk is higher at younger and older ages, following a U-shaped relationship. This makes sense intuitively as younger drivers tend to be risker with their driving and older drivers could be more prone to injury. "
   ]
  },
  {
   "cell_type": "markdown",
   "metadata": {},
   "source": [
    "# **Data Visualizations**\n",
    "\n",
    "Graphing the relationship between borough and injury/fatalities per 100,000 residents shows us the conclusion we got from our regression model. "
   ]
  },
  {
   "cell_type": "code",
   "execution_count": 23,
   "metadata": {
    "vscode": {
     "languageId": "r"
    }
   },
   "outputs": [
    {
     "data": {
      "image/png": "[encoded data removed]",
      "text/plain": [
       "plot without title"
      ]
     },
     "metadata": {
      "image/png": {
       "height": 420,
       "width": 420
      }
     },
     "output_type": "display_data"
    }
   ],
   "source": [
    "\n",
    "borough_pop <- data.frame(\n",
    "  BOROUGH = c(\"BRONX\", \"BROOKLYN\", \"MANHATTAN\", \"QUEENS\", \"STATEN ISLAND\"),\n",
    "  POPULATION = c(1379946, 2590516, 1596273, 2278029, 491133)\n",
    ")\n",
    "\n",
    "borough_pop$BOROUGH <- as.factor(borough_pop$BOROUGH)\n",
    "vehicle_data <- merge(vehicle_data, borough_pop, by = \"BOROUGH\")\n",
    "\n",
    "injury_or_fatality_summary <- vehicle_data %>%\n",
    "  group_by(BOROUGH) %>% summarize(INJURY_OR_FATALITY_COUNT = sum(INJURY_OR_FATALITY),\n",
    "                                  POPULATION = first(POPULATION)) %>%\n",
    "  mutate(RATE_PER_100K = (INJURY_OR_FATALITY_COUNT / POPULATION) * 100000)\n",
    "\n",
    "ggplot(injury_or_fatality_summary, aes(x = BOROUGH, y = RATE_PER_100K, fill = BOROUGH)) +\n",
    "  geom_bar(stat = \"identity\") + labs(title = \"Injuries or Fatalities per 100,000 Residents by Borough\",\n",
    "                                     x = \"Borough\", y = \"Rate per 100,000 Residents\") + theme_minimal() + theme(legend.position = \"none\")\n"
   ]
  },
  {
   "cell_type": "markdown",
   "metadata": {},
   "source": [
    "\n",
    "Graphing age again shows us clearly how younger and older drivers have higher injury risk. \n"
   ]
  },
  {
   "cell_type": "code",
   "execution_count": 24,
   "metadata": {
    "vscode": {
     "languageId": "r"
    }
   },
   "outputs": [
    {
     "data": {
      "image/png": "[encoded data removed]",
      "text/plain": [
       "plot without title"
      ]
     },
     "metadata": {
      "image/png": {
       "height": 420,
       "width": 420
      }
     },
     "output_type": "display_data"
    }
   ],
   "source": [
    "age_summary <- vehicle_data %>%\n",
    "  group_by(PERSON_AGE) %>%  \n",
    "  summarise(TOTAL_CASES = n(), INJURY_OR_FATALITY_COUNT = sum(INJURY_OR_FATALITY)) %>%\n",
    "  mutate(PROBABILITY_PER_AGE = INJURY_OR_FATALITY_COUNT / TOTAL_CASES)  \n",
    "\n",
    "ggplot(age_summary, aes(x = PERSON_AGE, y = PROBABILITY_PER_AGE)) +\n",
    "  geom_point(color = \"red\", size = 2) +  \n",
    "  labs(title = \"Likelihood of Injury or Fatality by Age\", x = \"Age\", y = \"Likelihood of Injury or Fatality\") + theme_minimal()\n"
   ]
  },
  {
   "cell_type": "markdown",
   "metadata": {},
   "source": [
    "The following links to a Tableau Public heatmap, where the number of collisions for intersections are recorded. [Tableau Link](https://public.tableau.com/app/profile/alejandro.ordonez/viz/motor_vehicle_heat_map/Sheet1?publish=yes)\n",
    "\n",
    "It looks something like this:\n",
    "\n"
   ]
  },
  {
   "cell_type": "markdown",
   "metadata": {},
   "source": [
    "# **Final Thoughts**\n",
    "Overall, this analysis identified key factors influencing injury and fatality risks in NYC. The borough of the accident, type of vehicle involved, driver's sex, and license status all play a significant role in determining the likelihood of an injury.\n",
    "\n",
    "From the findings, Manhattan stands out as the safest borough in terms of injury rates, likely due to lower speed collisions in traffic. Motorcycles pose by far the highest risk, reinforcing the need for improved safety measures for motorcyclists. Age has a U shaped relationship with injury/fatality, showing increased risk of both younger and older drivers.\n",
    "\n",
    "While many of these results align with intuition and observations, further research is needed to expand on the underlying reasons of some trends, such as why female drivers have higher injury rates than males or why unlicensed drivers appear less likely to be reported as injured. Future work could incorporate additional factors like time of day, brand of the vehicle, or traffic laws to refine risk assessments even further."
   ]
  }
 ],
 "metadata": {
  "kernelspec": {
   "display_name": "R",
   "language": "R",
   "name": "ir"
  },
  "language_info": {
   "codemirror_mode": "r",
   "file_extension": ".r",
   "mimetype": "text/x-r-source",
   "name": "R",
   "pygments_lexer": "r",
   "version": "4.4.1"
  }
 },
 "nbformat": 4,
 "nbformat_minor": 2
}
