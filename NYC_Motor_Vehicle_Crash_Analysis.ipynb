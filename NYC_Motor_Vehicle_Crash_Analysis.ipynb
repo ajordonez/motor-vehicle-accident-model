{
 "cells": [
  {
   "cell_type": "markdown",
   "metadata": {},
   "source": [
    "# Predictive Model for Motor Vehicle Accidents: Injury and Fatality Prevention and Intersection Safety  (January 2015 - December 2024)\n",
    "\n",
    "#### *By Alejandro J. Ordonez*\n",
    "\n",
    "**Version 1.0.1**"
   ]
  },
  {
   "cell_type": "markdown",
   "metadata": {},
   "source": [
    "### **Project Overview**:\n",
    "\n",
    "This project outlines the motor vehicle (cars, trucks, buses, motorcycle) accident data in NYC, based on intersection characteristics, finding patterns within drivers, accident concentration by zip code, and commonalities among high risk areas and vehicles. \n",
    "\n",
    "**Our Goal**: \n",
    "\n",
    "This project aims to create a model to predict potential injury or fatalities based on variables given by NYPD public data. Further exploration of this model could aid insurance companies in adjusting premiums for high risk profiles and locations, provide government agencies with actionable data to improve traffic safety, and give new yorkers a compreshensive look at where accidents are occuring. \n",
    "\n",
    "We plan on doing so by analyzing historical accident data from the last 10 years, traffic patterns, and intersection structures. The predictive model will identify high risk areas and attempt to predict future accidents within a certain margin of error. \n",
    "\n",
    "**Methodology**: \n",
    "\n",
    "We plan on using NYC public data in order to create this model.\n",
    "\n",
    "We will be using SQL, and more specifically Google's RDBMS BigQuery to retrieve and clean data. \n",
    "\n",
    "We will be using R to help with statistical analysis on the cleaned dataset, as well as to create the logistical regression model for injury/fatality analysis. \n",
    "\n",
    "And finally we will be using Tableau to create a heat map of high risk areas and intersections with high counts of collisions. "
   ]
  },
  {
   "cell_type": "markdown",
   "metadata": {},
   "source": [
    "# Data Collection:\n",
    "\n",
    "To get our dataset we looked on the NYC public data in order to find the motor vehicle accident data. \n",
    "\n",
    "We used this table for the personal profiles: https://data.cityofnewyork.us/Public-Safety/Motor-Vehicle-Collisions-Person/f55k-p6yu/about_data\n",
    "\n",
    "We used this table for the collision in the intersection: https://data.cityofnewyork.us/Public-Safety/Motor-Vehicle-Collisions-Crashes/h9gi-nx95/about_data\n",
    "\n",
    "We used this table for the specific vehicles in the crashes: https://data.cityofnewyork.us/Public-Safety/Motor-Vehicle-Collisions-Vehicles/bm4k-52h4/about_data\n",
    "\n",
    "All of the data that we have collected will be stored into a personal Google Cloud and we will use Google's BigQuery in order to query the data. \n",
    "\n",
    "**For this project we will refer to the dataset as `insurance` and the tables as `insurance.persons`, `insurance.crashes`, and `insurance.vehicles` respectively.**"
   ]
  },
  {
   "cell_type": "markdown",
   "metadata": {},
   "source": [
    "# Data Cleaning\n",
    "\n",
    "Using BigQuery, we will first clean the first table, `insurance.persons`. We will filter out null values for relevant fields and select data in between 2015-2024"
   ]
  },
  {
   "cell_type": "code",
   "execution_count": null,
   "metadata": {
    "vscode": {
     "languageId": "sql"
    }
   },
   "outputs": [],
   "source": [
    "SELECT *\n",
    "FROM \n",
    "  `insurance.persons`\n",
    "WHERE\n",
    "  `CRASH_DATE` BETWEEN '2015-01-01' AND '2024-12-01'\n",
    "  AND PERSON_TYPE IS NOT NULL\n",
    "  AND PERSON_AGE IS NOT NULL \n",
    "  AND PERSON_AGE >0 \n",
    "  AND PERSON_AGE <150\n",
    "  AND PERSON_SEX IS NOT NULL\n",
    "  AND COLLISION_ID IS NOT NULL\n",
    "  AND PERSON_TYPE = \"Occupant\"\n",
    "  AND EMOTIONAL_STATUS IS NOT NULL\n",
    "  AND POSITION_IN_VEHICLE LIKE \"%Driver%\"\n",
    "  AND PERSON_INJURY IS NOT NULL"
   ]
  },
  {
   "cell_type": "markdown",
   "metadata": {},
   "source": [
    "Now we will move onto the next table `insurance.crashes` where we will do largely the same thing as we did for the previous table. "
   ]
  },
  {
   "cell_type": "code",
   "execution_count": null,
   "metadata": {
    "vscode": {
     "languageId": "sql"
    }
   },
   "outputs": [],
   "source": [
    "  SELECT *\n",
    "  FROM `insurance.crashes`\n",
    "  WHERE\n",
    "    `CRASH DATE` BETWEEN '2015-01-01' AND '2024-12-01'\n",
    "    AND BOROUGH IS NOT NULL\n",
    "    AND `ZIP CODE` IS NOT NULL\n",
    "    AND `ZIP CODE` > 10000\n",
    "    AND COLLISION_ID IS NOT NULL\n",
    "    AND `NUMBER OF PERSONS KILLED` IS NOT NULL\n",
    "    AND `NUMBER OF PERSONS INJURED` IS NOT NULL"
   ]
  },
  {
   "cell_type": "markdown",
   "metadata": {},
   "source": [
    "For the last table (`insurance.vehicles`) we need to condense down the types of vehicles from over 1000 into 11 types:\n",
    "\n",
    "(Sedan, SUV, Taxi, Pickup Truck, Van, Emergency Vehicle, Livery, Bus, Motorcycle, Bicycle, Truck, and Other)\n",
    "\n",
    "Like the other queries, we will also filter out null values for relevant fields and select data in between 2015-2024"
   ]
  },
  {
   "cell_type": "code",
   "execution_count": null,
   "metadata": {
    "vscode": {
     "languageId": "sql"
    }
   },
   "outputs": [],
   "source": [
    "WITH cleaned_vehicles AS (\n",
    "    SELECT \n",
    "        COLLISION_ID,\n",
    "        DRIVER_LICENSE_STATUS,\n",
    "        UPPER(TRIM(VEHICLE_TYPE)) AS VEHICLE_TYPE,\n",
    "        DRIVER_SEX,\n",
    "        \n",
    "        --This case query will sort the type of vehicles (ex: motorcycles, trucks, sedans, SUVs) together\n",
    "        CASE \n",
    "            WHEN UPPER(TRIM(VEHICLE_TYPE)) LIKE '%SEDAN%' THEN 'Sedan'\n",
    "            WHEN UPPER(TRIM(VEHICLE_TYPE)) LIKE '%SPORT UTILITY%' OR UPPER(TRIM(VEHICLE_TYPE)) LIKE '%SUV%' OR UPPER(TRIM(VEHICLE_TYPE)) LIKE '%STATION WAGON%' THEN 'SUV'\n",
    "            WHEN UPPER(TRIM(VEHICLE_TYPE)) LIKE '%TAXI%' OR UPPER(TRIM(VEHICLE_TYPE)) LIKE '%CAB%' THEN 'Taxi'\n",
    "            WHEN UPPER(TRIM(VEHICLE_TYPE)) LIKE '%PICK%' OR UPPER(TRIM(VEHICLE_TYPE)) LIKE '%TRUCK%' THEN 'Pickup Truck'\n",
    "            WHEN UPPER(TRIM(VEHICLE_TYPE)) LIKE '%VAN%' THEN 'Van'\n",
    "            WHEN UPPER(TRIM(VEHICLE_TYPE)) LIKE '%AMBULANCE%' OR UPPER(TRIM(VEHICLE_TYPE)) LIKE '%FIRE TRUCK%' OR UPPER(TRIM(VEHICLE_TYPE)) LIKE '%FDNY%' \n",
    "                OR UPPER(TRIM(VEHICLE_TYPE)) LIKE '%POLICE%' OR UPPER(TRIM(VEHICLE_TYPE)) LIKE '%EMERGENCY%' OR UPPER(TRIM(VEHICLE_TYPE)) LIKE '%EMS%' THEN 'Emergency Vehicle'\n",
    "            WHEN UPPER(TRIM(VEHICLE_TYPE)) LIKE '%LIVERY%' OR UPPER(TRIM(VEHICLE_TYPE)) LIKE '%LIMO%' THEN 'Livery'\n",
    "            WHEN UPPER(TRIM(VEHICLE_TYPE)) LIKE '%BUS%' THEN 'Bus'\n",
    "            WHEN UPPER(TRIM(VEHICLE_TYPE)) LIKE '%MOTORCYCLE%' OR UPPER(TRIM(VEHICLE_TYPE)) LIKE '%SCOOTER%' OR UPPER(TRIM(VEHICLE_TYPE)) LIKE '%MOPED%' \n",
    "                OR UPPER(TRIM(VEHICLE_TYPE)) LIKE '%E-SCOOTER%' OR UPPER(TRIM(VEHICLE_TYPE)) LIKE '%MOTORBIKE%' OR UPPER(TRIM(VEHICLE_TYPE)) LIKE '%E-BIKE%' \n",
    "                OR UPPER(TRIM(VEHICLE_TYPE)) LIKE '%EBIKE%' OR UPPER(TRIM(VEHICLE_TYPE)) LIKE '%DIRT BIKE%' THEN 'Motorcycle'\n",
    "            WHEN UPPER(TRIM(VEHICLE_TYPE)) LIKE '%BICYCLE%' OR UPPER(TRIM(VEHICLE_TYPE)) LIKE '%E-BIKE%' THEN 'Bicycle'\n",
    "            WHEN UPPER(TRIM(VEHICLE_TYPE)) LIKE '%TRUCK%' OR UPPER(TRIM(VEHICLE_TYPE)) LIKE '%DUMP TRUCK%' OR UPPER(TRIM(VEHICLE_TYPE)) LIKE '%FLATBED%' \n",
    "                OR UPPER(TRIM(VEHICLE_TYPE)) LIKE '%TRACTOR TRAILER%' OR UPPER(TRIM(VEHICLE_TYPE)) LIKE '%MAIL TRUCK%' OR UPPER(TRIM(VEHICLE_TYPE)) LIKE '%GARBAGE%' THEN 'Truck'\n",
    "            ELSE 'Other'\n",
    "\n",
    "    END AS TYPE_OF_VEHICLE\n",
    "\n",
    "\n",
    "    FROM \n",
    "        `insurance.vehicles`\n",
    "    WHERE \n",
    "        `CRASH_DATE` BETWEEN '2015-01-01' AND '2024-12-01'\n",
    "        AND VEHICLE_TYPE IS NOT NULL\n",
    "        AND DRIVER_SEX IS NOT NULL\n",
    "        AND DRIVER_LICENSE_STATUS IS NOT NULL\n",
    "        AND COLLISION_ID IS NOT NULL\n",
    "\n",
    ")\n",
    "\n",
    "SELECT \n",
    "    DRIVER_LICENSE_STATUS,\n",
    "    TYPE_OF_VEHICLE,\n",
    "    DRIVER_SEX,\n",
    "    cleaned_vehicles.VEHICLE_TYPE\n",
    "FROM cleaned_vehicles"
   ]
  },
  {
   "cell_type": "markdown",
   "metadata": {},
   "source": [
    "In this case, we used a common table expression \"cleaned_vehicles\" to first create a table then run the query. We will use this same methodology to combine the rest of the cleaned queries into one query and use **INNER JOIN** to combine the tables together. "
   ]
  },
  {
   "cell_type": "markdown",
   "metadata": {},
   "source": [
    "### Choosing Variables\n",
    "\n",
    "Now that we have the cleaned tables, we need to select what we will be pulling from the new joined table. Of the variables for our model, we will pull a few that are relevant and can be factored in R. We ended up with the following fields:\n",
    "\n",
    "* Crash date\n",
    "* Crash time\n",
    "* Borough\n",
    "* Zip code\n",
    "* Number of fatalities caused by crash\n",
    "* Number of persons injured by crash\n",
    "* Driver injury\n",
    "* Drivers license Status\n",
    "* Vehicle type\n",
    "* Age\n",
    "* Sex"
   ]
  },
  {
   "cell_type": "markdown",
   "metadata": {},
   "source": [
    "## **Final Model Query**"
   ]
  },
  {
   "cell_type": "code",
   "execution_count": null,
   "metadata": {
    "vscode": {
     "languageId": "sql"
    }
   },
   "outputs": [],
   "source": [
    "--The following will be cleaning the data before joining them together\n",
    "\n",
    "--Cleaned insurance.crashes query\n",
    "WITH cleaned_crashes AS (\n",
    "  SELECT *\n",
    "  FROM `insurance.crashes`\n",
    "  WHERE\n",
    "    `CRASH DATE` BETWEEN '2015-01-01' AND '2024-12-01'\n",
    "    AND BOROUGH IS NOT NULL\n",
    "    AND `ZIP CODE` IS NOT NULL\n",
    "    AND `ZIP CODE` > 10000\n",
    "    AND COLLISION_ID IS NOT NULL\n",
    "    AND `NUMBER OF PERSONS KILLED` IS NOT NULL\n",
    "    AND `NUMBER OF PERSONS INJURED` IS NOT NULL\n",
    "\n",
    "),\n",
    "\n",
    "--Cleaned insurance.vehicles query\n",
    "cleaned_vehicles AS (\n",
    "    SELECT \n",
    "        COLLISION_ID,\n",
    "        DRIVER_LICENSE_STATUS,\n",
    "        UPPER(TRIM(VEHICLE_TYPE)) AS VEHICLE_TYPE,\n",
    "        DRIVER_SEX,\n",
    "        \n",
    "        #This case query will sort the type of vehicles (ex: motorcycles, trucks, sedans, SUVs) together\n",
    "        CASE \n",
    "            WHEN UPPER(TRIM(VEHICLE_TYPE)) LIKE '%SEDAN%' THEN 'Sedan'\n",
    "            WHEN UPPER(TRIM(VEHICLE_TYPE)) LIKE '%SPORT UTILITY%' OR UPPER(TRIM(VEHICLE_TYPE)) LIKE '%SUV%' OR UPPER(TRIM(VEHICLE_TYPE)) LIKE '%STATION WAGON%' THEN 'SUV'\n",
    "            WHEN UPPER(TRIM(VEHICLE_TYPE)) LIKE '%TAXI%' OR UPPER(TRIM(VEHICLE_TYPE)) LIKE '%CAB%' THEN 'Taxi'\n",
    "            WHEN UPPER(TRIM(VEHICLE_TYPE)) LIKE '%PICK%' OR UPPER(TRIM(VEHICLE_TYPE)) LIKE '%TRUCK%' THEN 'Pickup Truck'\n",
    "            WHEN UPPER(TRIM(VEHICLE_TYPE)) LIKE '%VAN%' THEN 'Van'\n",
    "            WHEN UPPER(TRIM(VEHICLE_TYPE)) LIKE '%AMBULANCE%' OR UPPER(TRIM(VEHICLE_TYPE)) LIKE '%FIRE TRUCK%' OR UPPER(TRIM(VEHICLE_TYPE)) LIKE '%FDNY%' \n",
    "                OR UPPER(TRIM(VEHICLE_TYPE)) LIKE '%POLICE%' OR UPPER(TRIM(VEHICLE_TYPE)) LIKE '%EMERGENCY%' OR UPPER(TRIM(VEHICLE_TYPE)) LIKE '%EMS%' THEN 'Emergency Vehicle'\n",
    "            WHEN UPPER(TRIM(VEHICLE_TYPE)) LIKE '%LIVERY%' OR UPPER(TRIM(VEHICLE_TYPE)) LIKE '%LIMO%' THEN 'Livery'\n",
    "            WHEN UPPER(TRIM(VEHICLE_TYPE)) LIKE '%BUS%' THEN 'Bus'\n",
    "            WHEN UPPER(TRIM(VEHICLE_TYPE)) LIKE '%MOTORCYCLE%' OR UPPER(TRIM(VEHICLE_TYPE)) LIKE '%SCOOTER%' OR UPPER(TRIM(VEHICLE_TYPE)) LIKE '%MOPED%' \n",
    "                OR UPPER(TRIM(VEHICLE_TYPE)) LIKE '%E-SCOOTER%' OR UPPER(TRIM(VEHICLE_TYPE)) LIKE '%MOTORBIKE%' OR UPPER(TRIM(VEHICLE_TYPE)) LIKE '%E-BIKE%' \n",
    "                OR UPPER(TRIM(VEHICLE_TYPE)) LIKE '%EBIKE%' OR UPPER(TRIM(VEHICLE_TYPE)) LIKE '%DIRT BIKE%' THEN 'Motorcycle'\n",
    "            WHEN UPPER(TRIM(VEHICLE_TYPE)) LIKE '%BICYCLE%' OR UPPER(TRIM(VEHICLE_TYPE)) LIKE '%E-BIKE%' THEN 'Bicycle'\n",
    "            WHEN UPPER(TRIM(VEHICLE_TYPE)) LIKE '%TRUCK%' OR UPPER(TRIM(VEHICLE_TYPE)) LIKE '%DUMP TRUCK%' OR UPPER(TRIM(VEHICLE_TYPE)) LIKE '%FLATBED%' \n",
    "                OR UPPER(TRIM(VEHICLE_TYPE)) LIKE '%TRACTOR TRAILER%' OR UPPER(TRIM(VEHICLE_TYPE)) LIKE '%MAIL TRUCK%' OR UPPER(TRIM(VEHICLE_TYPE)) LIKE '%GARBAGE%' THEN 'Truck'\n",
    "            ELSE 'Other'\n",
    "\n",
    "    END AS TYPE_OF_VEHICLE\n",
    "\n",
    "\n",
    "    FROM \n",
    "        `insurance.vehicles`\n",
    "    WHERE \n",
    "        `CRASH_DATE` BETWEEN '2015-01-01' AND '2024-12-01'\n",
    "        AND VEHICLE_TYPE IS NOT NULL\n",
    "        AND DRIVER_SEX IS NOT NULL\n",
    "        AND DRIVER_LICENSE_STATUS IS NOT NULL\n",
    "        AND COLLISION_ID IS NOT NULL\n",
    "\n",
    "),\n",
    "\n",
    "--Cleaned insurance.persons query\n",
    "cleaned_persons AS (\n",
    "  SELECT *\n",
    "  FROM `insurance.persons`\n",
    "  WHERE\n",
    "    `CRASH_DATE` BETWEEN '2015-01-01' AND '2024-12-01'\n",
    "    AND PERSON_TYPE IS NOT NULL\n",
    "    AND PERSON_AGE IS NOT NULL \n",
    "    AND PERSON_AGE >0 \n",
    "    AND PERSON_AGE <150\n",
    "    AND PERSON_SEX IS NOT NULL\n",
    "    AND COLLISION_ID IS NOT NULL\n",
    "    AND PERSON_TYPE = \"Occupant\"\n",
    "    AND EMOTIONAL_STATUS IS NOT NULL\n",
    "    AND POSITION_IN_VEHICLE LIKE \"%Driver%\"\n",
    "    AND PERSON_INJURY IS NOT NULL\n",
    ")\n",
    "\n",
    "--Here we will begin the query with the cleaned data\n",
    "SELECT \n",
    "  c.`CRASH DATE`,\n",
    "  c.`CRASH TIME`,\n",
    "  c.BOROUGH,\n",
    "  c.`ZIP CODE`,\n",
    "  c.`NUMBER OF PERSONS KILLED`,\n",
    "  c.`NUMBER OF PERSONS INJURED`,\n",
    "  c.`CONTRIBUTING FACTOR VEHICLE 1`,\n",
    "  v.DRIVER_LICENSE_STATUS,\n",
    "  v.TYPE_OF_VEHICLE,\n",
    "  p.PERSON_INJURY,\n",
    "  p.PERSON_AGE,\n",
    "  p.PERSON_SEX,\n",
    "  COUNT(*) AS TOTAL_INCIDENTS\n",
    "\n",
    "--Here we will join the 3 tables together with COLLISION_ID, where we rename the tables as c for Crashes, p for Persons, and v for Vehicles\n",
    "FROM \n",
    "  cleaned_crashes AS c\n",
    "  INNER JOIN cleaned_vehicles AS v\n",
    "    ON c.COLLISION_ID = v.COLLISION_ID\n",
    "  INNER JOIN cleaned_persons AS p\n",
    "    ON c.COLLISION_ID = p.COLLISION_ID\n",
    "\n",
    "\n",
    "GROUP BY \n",
    "  c.`CRASH DATE`,\n",
    "  c.`CRASH TIME`,\n",
    "  c.BOROUGH,\n",
    "  c.`ZIP CODE`,\n",
    "  c.`NUMBER OF PERSONS KILLED`,\n",
    "  c.`NUMBER OF PERSONS INJURED`,\n",
    "  c.`CONTRIBUTING FACTOR VEHICLE 1`,\n",
    "  v.DRIVER_LICENSE_STATUS,\n",
    "  v.TYPE_OF_VEHICLE,\n",
    "  p.PERSON_INJURY,\n",
    "  p.PERSON_AGE,\n",
    "  p.PERSON_SEX"
   ]
  },
  {
   "cell_type": "markdown",
   "metadata": {},
   "source": [
    "We now have a cleaned dataset with all of the variables for the model. Now we can begin with the analysis in R. "
   ]
  },
  {
   "cell_type": "markdown",
   "metadata": {},
   "source": [
    "# Model Data Analysis\n",
    "\n",
    "Now we will use R to analyze the motor vehicle data we had just cleaned. First we will retrieve tidyverse and read the CSV file as \"vehicle_data\"."
   ]
  },
  {
   "cell_type": "raw",
   "metadata": {
    "vscode": {
     "languageId": "raw"
    }
   },
   "source": [
    "library(tidyverse)\n",
    "\n",
    "vehicle_data <- read_csv(\"clean_motor_vehicle_table.csv\")\n"
   ]
  },
  {
   "cell_type": "markdown",
   "metadata": {},
   "source": [
    "In order to get the aggregrated intersections which have the most amount of accidents, we will have to dive deeper. The following query will clean, aggregate, and display the intersections with the most amount of collisions.\n",
    "\n",
    "We will also have an additional column that displays the total number of collisions as well as getting the latitude and longitude for each collision, this will help us when displaying our results. "
   ]
  },
  {
   "cell_type": "code",
   "execution_count": null,
   "metadata": {},
   "outputs": [],
   "source": [
    "SELECT \n",
    "  COUNT(DISTINCT COLLISION_ID) AS number_of_collisions, \n",
    "  LEAST(TRIM(UPPER(`ON STREET NAME`)), TRIM(UPPER(`CROSS STREET NAME`))) AS primary_street_name,\n",
    "  GREATEST(TRIM(UPPER(`ON STREET NAME`)), TRIM(UPPER(`CROSS STREET NAME`))) AS secondary_street_name,\n",
    "  LATITUDE as latitude,\n",
    "\n",
    "WHERE"
   ]
  }
 ],
 "metadata": {
  "kernelspec": {
   "display_name": "Python 3",
   "language": "python",
   "name": "python3"
  },
  "language_info": {
   "codemirror_mode": "r",
   "file_extension": ".r",
   "mimetype": "text/x-r-source",
   "name": "python",
   "pygments_lexer": "r",
   "version": "3.9.6"
  }
 },
 "nbformat": 4,
 "nbformat_minor": 2
}
