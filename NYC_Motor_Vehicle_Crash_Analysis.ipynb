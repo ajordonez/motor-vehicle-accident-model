{
 "cells": [
  {
   "cell_type": "markdown",
   "metadata": {},
   "source": [
    "# **Predictive Model for Motor Vehicle Accidents: Injury and Fatality Prevention and Intersection Safety  (January 2015 - December 2024)**\n",
    "\n",
    "#### *By Alejandro J. Ordonez*\n",
    "\n",
    "**Version 1.0.1**"
   ]
  },
  {
   "cell_type": "markdown",
   "metadata": {},
   "source": [
    "## **Project Overview**:\n",
    "\n",
    "This project outlines the motor vehicle (cars, trucks, buses, motorcycle) accident data in NYC, based on intersection characteristics, finding patterns within drivers, accident concentration by zip code, and commonalities among high risk areas and vehicles. \n",
    "\n",
    "##### **Our Goal**: \n",
    "\n",
    "This project aims to create a model to predict potential injury or fatalities based on variables given by NYPD public data. It also aims to create an interactive heat map for intersection collisions and provide a comprehensive look at where collisions are occuring in NYC.\n",
    "\n",
    "Further exploration of this model could aid insurance companies in adjusting premiums for high risk profiles and locations, provide government agencies with actionable data to improve traffic safety, and give new yorkers a compreshensive look at where accidents are occuring. \n",
    "\n",
    "We plan on doing so by analyzing historical accident data from the last 10 years, traffic patterns, and intersection structures. The predictive model will identify high risk areas and attempt to predict future accidents within a certain margin of error. \n",
    "\n",
    "##### **Methodology**: \n",
    "\n",
    "We plan on using NYC public data in order to create this model.\n",
    "\n",
    "We will be using SQL, and more specifically Google's RDBMS BigQuery to retrieve and clean data. \n",
    "\n",
    "We will be using R to help with statistical analysis on the cleaned dataset, as well as to create the logistical regression model for injury/fatality analysis. \n",
    "\n",
    "And finally we will be using Tableau to create a heat map of high risk areas and intersections with high counts of collisions. "
   ]
  },
  {
   "cell_type": "markdown",
   "metadata": {},
   "source": [
    "# **Data Collection:**\n",
    "\n",
    "To get our dataset we looked on the NYC public data in order to find the motor vehicle accident data. \n",
    "\n",
    "We used this table for the personal profiles: https://data.cityofnewyork.us/Public-Safety/Motor-Vehicle-Collisions-Person/f55k-p6yu/about_data\n",
    "\n",
    "We used this table for the collision in the intersection: https://data.cityofnewyork.us/Public-Safety/Motor-Vehicle-Collisions-Crashes/h9gi-nx95/about_data\n",
    "\n",
    "We used this table for the specific vehicles in the crashes: https://data.cityofnewyork.us/Public-Safety/Motor-Vehicle-Collisions-Vehicles/bm4k-52h4/about_data\n",
    "\n",
    "All of the data that we have collected will be stored into a personal Google Cloud and we will use Google's BigQuery in order to query the data. \n",
    "\n",
    "**For this project we will refer to the dataset as `insurance` and the tables as `insurance.persons`, `insurance.crashes`, and `insurance.vehicles` respectively.**"
   ]
  },
  {
   "cell_type": "markdown",
   "metadata": {},
   "source": [
    "# **Data Cleaning**\n",
    "\n",
    "As of now, SQL queries in this notebook do not run, however the final product is in the `motor-vehicle-accident-model` repo under the csv: `clean_motor_vehicle_table`. The following steps document the data cleaning that created the CSV we will be using. \n",
    "\n",
    "Using BigQuery, we will first clean the first table, `insurance.persons`. We will filter out null values for relevant fields and select data in between 2015-2024. "
   ]
  },
  {
   "cell_type": "code",
   "execution_count": null,
   "metadata": {
    "vscode": {
     "languageId": "r"
    }
   },
   "outputs": [],
   "source": [
    "SELECT *\n",
    "FROM \n",
    "  `insurance.persons`\n",
    "WHERE\n",
    "  `CRASH_DATE` BETWEEN '2015-01-01' AND '2024-12-01'\n",
    "  AND PERSON_TYPE IS NOT NULL\n",
    "  AND PERSON_AGE IS NOT NULL \n",
    "  AND PERSON_AGE >0 \n",
    "  AND PERSON_AGE <150\n",
    "  AND PERSON_SEX IS NOT NULL\n",
    "  AND COLLISION_ID IS NOT NULL\n",
    "  AND PERSON_TYPE = \"Occupant\"\n",
    "  AND EMOTIONAL_STATUS IS NOT NULL\n",
    "  AND POSITION_IN_VEHICLE LIKE \"%Driver%\"\n",
    "  AND PERSON_INJURY IS NOT NULL"
   ]
  },
  {
   "cell_type": "markdown",
   "metadata": {},
   "source": [
    "Now we will move onto the next table `insurance.crashes` where we will do largely the same thing as we did for the previous table. "
   ]
  },
  {
   "cell_type": "code",
   "execution_count": null,
   "metadata": {
    "vscode": {
     "languageId": "r"
    }
   },
   "outputs": [],
   "source": [
    "  SELECT *\n",
    "  FROM `insurance.crashes`\n",
    "  WHERE\n",
    "    `CRASH DATE` BETWEEN '2015-01-01' AND '2024-12-01'\n",
    "    AND BOROUGH IS NOT NULL\n",
    "    AND `ZIP CODE` IS NOT NULL\n",
    "    AND `ZIP CODE` > 10000\n",
    "    AND COLLISION_ID IS NOT NULL\n",
    "    AND `NUMBER OF PERSONS KILLED` IS NOT NULL\n",
    "    AND `NUMBER OF PERSONS INJURED` IS NOT NULL"
   ]
  },
  {
   "cell_type": "markdown",
   "metadata": {},
   "source": [
    "For the last table (`insurance.vehicles`) we need to condense down the types of vehicles from over 1000 into 11 types:\n",
    "\n",
    "(Sedan, SUV, Taxi, Pickup Truck, Van, Emergency Vehicle, Livery, Bus, Motorcycle, Bicycle, Truck, and Other)\n",
    "\n",
    "Like the other queries, we will also filter out null values for relevant fields and select data in between 2015-2024"
   ]
  },
  {
   "cell_type": "code",
   "execution_count": null,
   "metadata": {
    "vscode": {
     "languageId": "r"
    }
   },
   "outputs": [],
   "source": [
    "WITH cleaned_vehicles AS (\n",
    "    SELECT \n",
    "        COLLISION_ID,\n",
    "        DRIVER_LICENSE_STATUS,\n",
    "        UPPER(TRIM(VEHICLE_TYPE)) AS VEHICLE_TYPE,\n",
    "        DRIVER_SEX,\n",
    "        \n",
    "        --This case query will sort the type of vehicles (ex: motorcycles, trucks, sedans, SUVs) together\n",
    "        CASE \n",
    "            WHEN UPPER(TRIM(VEHICLE_TYPE)) LIKE '%SEDAN%' THEN 'Sedan'\n",
    "            WHEN UPPER(TRIM(VEHICLE_TYPE)) LIKE '%SPORT UTILITY%' OR UPPER(TRIM(VEHICLE_TYPE)) LIKE '%SUV%' OR UPPER(TRIM(VEHICLE_TYPE)) LIKE '%STATION WAGON%' THEN 'SUV'\n",
    "            WHEN UPPER(TRIM(VEHICLE_TYPE)) LIKE '%TAXI%' OR UPPER(TRIM(VEHICLE_TYPE)) LIKE '%CAB%' THEN 'Taxi'\n",
    "            WHEN UPPER(TRIM(VEHICLE_TYPE)) LIKE '%PICK%' OR UPPER(TRIM(VEHICLE_TYPE)) LIKE '%TRUCK%' THEN 'Pickup Truck'\n",
    "            WHEN UPPER(TRIM(VEHICLE_TYPE)) LIKE '%VAN%' THEN 'Van'\n",
    "            WHEN UPPER(TRIM(VEHICLE_TYPE)) LIKE '%AMBULANCE%' OR UPPER(TRIM(VEHICLE_TYPE)) LIKE '%FIRE TRUCK%' OR UPPER(TRIM(VEHICLE_TYPE)) LIKE '%FDNY%' \n",
    "                OR UPPER(TRIM(VEHICLE_TYPE)) LIKE '%POLICE%' OR UPPER(TRIM(VEHICLE_TYPE)) LIKE '%EMERGENCY%' OR UPPER(TRIM(VEHICLE_TYPE)) LIKE '%EMS%' THEN 'Emergency Vehicle'\n",
    "            WHEN UPPER(TRIM(VEHICLE_TYPE)) LIKE '%LIVERY%' OR UPPER(TRIM(VEHICLE_TYPE)) LIKE '%LIMO%' THEN 'Livery'\n",
    "            WHEN UPPER(TRIM(VEHICLE_TYPE)) LIKE '%BUS%' THEN 'Bus'\n",
    "            WHEN UPPER(TRIM(VEHICLE_TYPE)) LIKE '%MOTORCYCLE%' OR UPPER(TRIM(VEHICLE_TYPE)) LIKE '%SCOOTER%' OR UPPER(TRIM(VEHICLE_TYPE)) LIKE '%MOPED%' \n",
    "                OR UPPER(TRIM(VEHICLE_TYPE)) LIKE '%E-SCOOTER%' OR UPPER(TRIM(VEHICLE_TYPE)) LIKE '%MOTORBIKE%' OR UPPER(TRIM(VEHICLE_TYPE)) LIKE '%E-BIKE%' \n",
    "                OR UPPER(TRIM(VEHICLE_TYPE)) LIKE '%EBIKE%' OR UPPER(TRIM(VEHICLE_TYPE)) LIKE '%DIRT BIKE%' THEN 'Motorcycle'\n",
    "            WHEN UPPER(TRIM(VEHICLE_TYPE)) LIKE '%BICYCLE%' OR UPPER(TRIM(VEHICLE_TYPE)) LIKE '%E-BIKE%' THEN 'Bicycle'\n",
    "            WHEN UPPER(TRIM(VEHICLE_TYPE)) LIKE '%TRUCK%' OR UPPER(TRIM(VEHICLE_TYPE)) LIKE '%DUMP TRUCK%' OR UPPER(TRIM(VEHICLE_TYPE)) LIKE '%FLATBED%' \n",
    "                OR UPPER(TRIM(VEHICLE_TYPE)) LIKE '%TRACTOR TRAILER%' OR UPPER(TRIM(VEHICLE_TYPE)) LIKE '%MAIL TRUCK%' OR UPPER(TRIM(VEHICLE_TYPE)) LIKE '%GARBAGE%' THEN 'Truck'\n",
    "            ELSE 'Other'\n",
    "\n",
    "    END AS TYPE_OF_VEHICLE\n",
    "\n",
    "\n",
    "    FROM \n",
    "        `insurance.vehicles`\n",
    "    WHERE \n",
    "        `CRASH_DATE` BETWEEN '2015-01-01' AND '2024-12-01'\n",
    "        AND VEHICLE_TYPE IS NOT NULL\n",
    "        AND DRIVER_SEX IS NOT NULL\n",
    "        AND DRIVER_LICENSE_STATUS IS NOT NULL\n",
    "        AND COLLISION_ID IS NOT NULL\n",
    "\n",
    ")\n",
    "\n",
    "SELECT \n",
    "    DRIVER_LICENSE_STATUS,\n",
    "    TYPE_OF_VEHICLE,\n",
    "    DRIVER_SEX,\n",
    "    cleaned_vehicles.VEHICLE_TYPE\n",
    "FROM cleaned_vehicles"
   ]
  },
  {
   "cell_type": "markdown",
   "metadata": {},
   "source": [
    "In this case, we used a common table expression \"cleaned_vehicles\" to first create a table then run the query. We will use this same methodology to combine the rest of the cleaned queries into one query and use **INNER JOIN** to combine the tables together. "
   ]
  },
  {
   "cell_type": "markdown",
   "metadata": {},
   "source": [
    "### Choosing Variables\n",
    "\n",
    "Now that we have the cleaned tables, we need to select what we will be pulling from the new joined table. Of the variables for our model, we will pull a few that are relevant and can be factored in R. We ended up with the following fields:\n",
    "\n",
    "* Crash date\n",
    "* Crash time\n",
    "* Borough\n",
    "* Zip code\n",
    "* Number of fatalities caused by crash\n",
    "* Number of persons injured by crash\n",
    "* Driver injury\n",
    "* Drivers license Status\n",
    "* Vehicle type\n",
    "* Age\n",
    "* Sex"
   ]
  },
  {
   "cell_type": "markdown",
   "metadata": {},
   "source": [
    "## **Final Model Query**"
   ]
  },
  {
   "cell_type": "code",
   "execution_count": null,
   "metadata": {
    "vscode": {
     "languageId": "r"
    }
   },
   "outputs": [],
   "source": [
    "--The following will be cleaning the data before joining them together\n",
    "\n",
    "--Cleaned insurance.crashes query\n",
    "WITH cleaned_crashes AS (\n",
    "  SELECT *\n",
    "  FROM `insurance.crashes`\n",
    "  WHERE\n",
    "    `CRASH DATE` BETWEEN '2015-01-01' AND '2024-12-01'\n",
    "    AND BOROUGH IS NOT NULL\n",
    "    AND `ZIP CODE` IS NOT NULL\n",
    "    AND `ZIP CODE` > 10000\n",
    "    AND COLLISION_ID IS NOT NULL\n",
    "    AND `NUMBER OF PERSONS KILLED` IS NOT NULL\n",
    "    AND `NUMBER OF PERSONS INJURED` IS NOT NULL\n",
    "\n",
    "),\n",
    "\n",
    "--Cleaned insurance.vehicles query\n",
    "cleaned_vehicles AS (\n",
    "    SELECT \n",
    "        COLLISION_ID,\n",
    "        DRIVER_LICENSE_STATUS,\n",
    "        UPPER(TRIM(VEHICLE_TYPE)) AS VEHICLE_TYPE,\n",
    "        DRIVER_SEX,\n",
    "        \n",
    "        #This case query will sort the type of vehicles (ex: motorcycles, trucks, sedans, SUVs) together\n",
    "        CASE \n",
    "            WHEN UPPER(TRIM(VEHICLE_TYPE)) LIKE '%SEDAN%' THEN 'Sedan'\n",
    "            WHEN UPPER(TRIM(VEHICLE_TYPE)) LIKE '%SPORT UTILITY%' OR UPPER(TRIM(VEHICLE_TYPE)) LIKE '%SUV%' OR UPPER(TRIM(VEHICLE_TYPE)) LIKE '%STATION WAGON%' THEN 'SUV'\n",
    "            WHEN UPPER(TRIM(VEHICLE_TYPE)) LIKE '%TAXI%' OR UPPER(TRIM(VEHICLE_TYPE)) LIKE '%CAB%' THEN 'Taxi'\n",
    "            WHEN UPPER(TRIM(VEHICLE_TYPE)) LIKE '%PICK%' OR UPPER(TRIM(VEHICLE_TYPE)) LIKE '%TRUCK%' THEN 'Pickup Truck'\n",
    "            WHEN UPPER(TRIM(VEHICLE_TYPE)) LIKE '%VAN%' THEN 'Van'\n",
    "            WHEN UPPER(TRIM(VEHICLE_TYPE)) LIKE '%AMBULANCE%' OR UPPER(TRIM(VEHICLE_TYPE)) LIKE '%FIRE TRUCK%' OR UPPER(TRIM(VEHICLE_TYPE)) LIKE '%FDNY%' \n",
    "                OR UPPER(TRIM(VEHICLE_TYPE)) LIKE '%POLICE%' OR UPPER(TRIM(VEHICLE_TYPE)) LIKE '%EMERGENCY%' OR UPPER(TRIM(VEHICLE_TYPE)) LIKE '%EMS%' THEN 'Emergency Vehicle'\n",
    "            WHEN UPPER(TRIM(VEHICLE_TYPE)) LIKE '%LIVERY%' OR UPPER(TRIM(VEHICLE_TYPE)) LIKE '%LIMO%' THEN 'Livery'\n",
    "            WHEN UPPER(TRIM(VEHICLE_TYPE)) LIKE '%BUS%' THEN 'Bus'\n",
    "            WHEN UPPER(TRIM(VEHICLE_TYPE)) LIKE '%MOTORCYCLE%' OR UPPER(TRIM(VEHICLE_TYPE)) LIKE '%SCOOTER%' OR UPPER(TRIM(VEHICLE_TYPE)) LIKE '%MOPED%' \n",
    "                OR UPPER(TRIM(VEHICLE_TYPE)) LIKE '%E-SCOOTER%' OR UPPER(TRIM(VEHICLE_TYPE)) LIKE '%MOTORBIKE%' OR UPPER(TRIM(VEHICLE_TYPE)) LIKE '%E-BIKE%' \n",
    "                OR UPPER(TRIM(VEHICLE_TYPE)) LIKE '%EBIKE%' OR UPPER(TRIM(VEHICLE_TYPE)) LIKE '%DIRT BIKE%' THEN 'Motorcycle'\n",
    "            WHEN UPPER(TRIM(VEHICLE_TYPE)) LIKE '%BICYCLE%' OR UPPER(TRIM(VEHICLE_TYPE)) LIKE '%E-BIKE%' THEN 'Bicycle'\n",
    "            WHEN UPPER(TRIM(VEHICLE_TYPE)) LIKE '%TRUCK%' OR UPPER(TRIM(VEHICLE_TYPE)) LIKE '%DUMP TRUCK%' OR UPPER(TRIM(VEHICLE_TYPE)) LIKE '%FLATBED%' \n",
    "                OR UPPER(TRIM(VEHICLE_TYPE)) LIKE '%TRACTOR TRAILER%' OR UPPER(TRIM(VEHICLE_TYPE)) LIKE '%MAIL TRUCK%' OR UPPER(TRIM(VEHICLE_TYPE)) LIKE '%GARBAGE%' THEN 'Truck'\n",
    "            ELSE 'Other'\n",
    "\n",
    "    END AS TYPE_OF_VEHICLE\n",
    "\n",
    "\n",
    "    FROM \n",
    "        `insurance.vehicles`\n",
    "    WHERE \n",
    "        `CRASH_DATE` BETWEEN '2015-01-01' AND '2024-12-01'\n",
    "        AND VEHICLE_TYPE IS NOT NULL\n",
    "        AND DRIVER_SEX IS NOT NULL\n",
    "        AND DRIVER_LICENSE_STATUS IS NOT NULL\n",
    "        AND COLLISION_ID IS NOT NULL\n",
    "\n",
    "),\n",
    "\n",
    "--Cleaned insurance.persons query\n",
    "cleaned_persons AS (\n",
    "  SELECT *\n",
    "  FROM `insurance.persons`\n",
    "  WHERE\n",
    "    `CRASH_DATE` BETWEEN '2015-01-01' AND '2024-12-01'\n",
    "    AND PERSON_TYPE IS NOT NULL\n",
    "    AND PERSON_AGE IS NOT NULL \n",
    "    AND PERSON_AGE >0 \n",
    "    AND PERSON_AGE <150\n",
    "    AND PERSON_SEX IS NOT NULL\n",
    "    AND COLLISION_ID IS NOT NULL\n",
    "    AND PERSON_TYPE = \"Occupant\"\n",
    "    AND EMOTIONAL_STATUS IS NOT NULL\n",
    "    AND POSITION_IN_VEHICLE LIKE \"%Driver%\"\n",
    "    AND PERSON_INJURY IS NOT NULL\n",
    ")\n",
    "\n",
    "--Here we will begin the query with the cleaned data\n",
    "SELECT \n",
    "  c.`CRASH DATE`,\n",
    "  c.`CRASH TIME`,\n",
    "  c.BOROUGH,\n",
    "  c.`ZIP CODE`,\n",
    "  c.`NUMBER OF PERSONS KILLED`,\n",
    "  c.`NUMBER OF PERSONS INJURED`,\n",
    "  c.`CONTRIBUTING FACTOR VEHICLE 1`,\n",
    "  v.DRIVER_LICENSE_STATUS,\n",
    "  v.TYPE_OF_VEHICLE,\n",
    "  p.PERSON_INJURY,\n",
    "  p.PERSON_AGE,\n",
    "  p.PERSON_SEX,\n",
    "  COUNT(*) AS TOTAL_INCIDENTS\n",
    "\n",
    "--Here we will join the 3 tables together with COLLISION_ID, where we rename the tables as c for Crashes, p for Persons, and v for Vehicles\n",
    "FROM \n",
    "  cleaned_crashes AS c\n",
    "  INNER JOIN cleaned_vehicles AS v\n",
    "    ON c.COLLISION_ID = v.COLLISION_ID\n",
    "  INNER JOIN cleaned_persons AS p\n",
    "    ON c.COLLISION_ID = p.COLLISION_ID\n",
    "\n",
    "\n",
    "GROUP BY \n",
    "  c.`CRASH DATE`,\n",
    "  c.`CRASH TIME`,\n",
    "  c.BOROUGH,\n",
    "  c.`ZIP CODE`,\n",
    "  c.`NUMBER OF PERSONS KILLED`,\n",
    "  c.`NUMBER OF PERSONS INJURED`,\n",
    "  c.`CONTRIBUTING FACTOR VEHICLE 1`,\n",
    "  v.DRIVER_LICENSE_STATUS,\n",
    "  v.TYPE_OF_VEHICLE,\n",
    "  p.PERSON_INJURY,\n",
    "  p.PERSON_AGE,\n",
    "  p.PERSON_SEX"
   ]
  },
  {
   "cell_type": "markdown",
   "metadata": {},
   "source": [
    "We now have a cleaned dataset with all of the variables for the model. Although the code above does not work in Jupyter notebook, the result is in the `motor-vehicle-accident-model` repo in my GitHub under the csv file `clean_motor_vehicle_table`. Now we can begin with the analysis in R. "
   ]
  },
  {
   "cell_type": "markdown",
   "metadata": {},
   "source": [
    "# **Model Data Analysis**\n",
    "\n",
    "Now we will use R to analyze the motor vehicle data we had just cleaned. First we will retrieve tidyverse and read the CSV file as \"vehicle_data\". "
   ]
  },
  {
   "cell_type": "code",
   "execution_count": 18,
   "metadata": {
    "vscode": {
     "languageId": "r"
    }
   },
   "outputs": [
    {
     "name": "stdout",
     "output_type": "stream",
     "text": [
      "\n",
      "The downloaded binary packages are in\n",
      "\t/var/folders/4b/lyn1g4ln7fz23d5nk1h9vprm0000gn/T//RtmpvxEfjA/downloaded_packages\n",
      "\n",
      "The downloaded binary packages are in\n",
      "\t/var/folders/4b/lyn1g4ln7fz23d5nk1h9vprm0000gn/T//RtmpvxEfjA/downloaded_packages\n",
      "\n",
      "The downloaded binary packages are in\n",
      "\t/var/folders/4b/lyn1g4ln7fz23d5nk1h9vprm0000gn/T//RtmpvxEfjA/downloaded_packages\n",
      "\n",
      "The downloaded binary packages are in\n",
      "\t/var/folders/4b/lyn1g4ln7fz23d5nk1h9vprm0000gn/T//RtmpvxEfjA/downloaded_packages\n",
      "\n",
      "The downloaded binary packages are in\n",
      "\t/var/folders/4b/lyn1g4ln7fz23d5nk1h9vprm0000gn/T//RtmpvxEfjA/downloaded_packages\n"
     ]
    }
   ],
   "source": [
    "#Optional, install all packages we will be using for this analysis:\n",
    "install.packages(\"tidyverse\")\n",
    "install.packages(\"RCurl\")\n",
    "install.packages(\"forcats\")\n",
    "install.packages(\"broom\")\n",
    "install.packages(\"ResourceSelection\")"
   ]
  },
  {
   "cell_type": "code",
   "execution_count": 24,
   "metadata": {
    "vscode": {
     "languageId": "r"
    }
   },
   "outputs": [
    {
     "data": {
      "text/html": [
       "<table class=\"dataframe\">\n",
       "<caption>A data.frame: 6 x 13</caption>\n",
       "<thead>\n",
       "\t<tr><th></th><th scope=col>CRASH.DATE</th><th scope=col>CRASH.TIME</th><th scope=col>BOROUGH</th><th scope=col>ZIP.CODE</th><th scope=col>NUMBER.OF.PERSONS.KILLED</th><th scope=col>NUMBER.OF.PERSONS.INJURED</th><th scope=col>CONTRIBUTING.FACTOR.VEHICLE.1</th><th scope=col>DRIVER_LICENSE_STATUS</th><th scope=col>TYPE_OF_VEHICLE</th><th scope=col>PERSON_INJURY</th><th scope=col>PERSON_AGE</th><th scope=col>PERSON_SEX</th><th scope=col>TOTAL_INCIDENTS</th></tr>\n",
       "\t<tr><th></th><th scope=col>&lt;chr&gt;</th><th scope=col>&lt;chr&gt;</th><th scope=col>&lt;chr&gt;</th><th scope=col>&lt;int&gt;</th><th scope=col>&lt;int&gt;</th><th scope=col>&lt;int&gt;</th><th scope=col>&lt;chr&gt;</th><th scope=col>&lt;chr&gt;</th><th scope=col>&lt;chr&gt;</th><th scope=col>&lt;chr&gt;</th><th scope=col>&lt;int&gt;</th><th scope=col>&lt;chr&gt;</th><th scope=col>&lt;int&gt;</th></tr>\n",
       "</thead>\n",
       "<tbody>\n",
       "\t<tr><th scope=row>1</th><td>2/12/19</td><td>11:55</td><td>MANHATTAN</td><td>10001</td><td>0</td><td>0</td><td>Brakes Defective              </td><td>Licensed</td><td>Sedan</td><td>Unspecified</td><td>31</td><td>M</td><td>2</td></tr>\n",
       "\t<tr><th scope=row>2</th><td>3/13/17</td><td>14:21</td><td>MANHATTAN</td><td>10001</td><td>0</td><td>0</td><td>Following Too Closely         </td><td>Licensed</td><td>Sedan</td><td>Unspecified</td><td>67</td><td>F</td><td>1</td></tr>\n",
       "\t<tr><th scope=row>3</th><td>6/28/19</td><td>19:30</td><td>MANHATTAN</td><td>10001</td><td>0</td><td>0</td><td>Unsafe Lane Changing          </td><td>Licensed</td><td>SUV  </td><td>Unspecified</td><td>70</td><td>F</td><td>1</td></tr>\n",
       "\t<tr><th scope=row>4</th><td>7/26/19</td><td>16:00</td><td>MANHATTAN</td><td>10001</td><td>0</td><td>0</td><td>Following Too Closely         </td><td>Licensed</td><td>Sedan</td><td>Unspecified</td><td>78</td><td>M</td><td>1</td></tr>\n",
       "\t<tr><th scope=row>5</th><td>8/15/17</td><td>11:12</td><td>MANHATTAN</td><td>10001</td><td>0</td><td>0</td><td>Following Too Closely         </td><td>Licensed</td><td>Taxi </td><td>Unspecified</td><td>38</td><td>M</td><td>2</td></tr>\n",
       "\t<tr><th scope=row>6</th><td>3/30/18</td><td>17:10</td><td>MANHATTAN</td><td>10001</td><td>0</td><td>0</td><td>Driver Inattention/Distraction</td><td>Licensed</td><td>Sedan</td><td>Unspecified</td><td>62</td><td>M</td><td>1</td></tr>\n",
       "</tbody>\n",
       "</table>\n"
      ],
      "text/latex": [
       "A data.frame: 6 x 13\n",
       "\\begin{tabular}{r|lllllllllllll}\n",
       "  & CRASH.DATE & CRASH.TIME & BOROUGH & ZIP.CODE & NUMBER.OF.PERSONS.KILLED & NUMBER.OF.PERSONS.INJURED & CONTRIBUTING.FACTOR.VEHICLE.1 & DRIVER\\_LICENSE\\_STATUS & TYPE\\_OF\\_VEHICLE & PERSON\\_INJURY & PERSON\\_AGE & PERSON\\_SEX & TOTAL\\_INCIDENTS\\\\\n",
       "  & <chr> & <chr> & <chr> & <int> & <int> & <int> & <chr> & <chr> & <chr> & <chr> & <int> & <chr> & <int>\\\\\n",
       "\\hline\n",
       "\t1 & 2/12/19 & 11:55 & MANHATTAN & 10001 & 0 & 0 & Brakes Defective               & Licensed & Sedan & Unspecified & 31 & M & 2\\\\\n",
       "\t2 & 3/13/17 & 14:21 & MANHATTAN & 10001 & 0 & 0 & Following Too Closely          & Licensed & Sedan & Unspecified & 67 & F & 1\\\\\n",
       "\t3 & 6/28/19 & 19:30 & MANHATTAN & 10001 & 0 & 0 & Unsafe Lane Changing           & Licensed & SUV   & Unspecified & 70 & F & 1\\\\\n",
       "\t4 & 7/26/19 & 16:00 & MANHATTAN & 10001 & 0 & 0 & Following Too Closely          & Licensed & Sedan & Unspecified & 78 & M & 1\\\\\n",
       "\t5 & 8/15/17 & 11:12 & MANHATTAN & 10001 & 0 & 0 & Following Too Closely          & Licensed & Taxi  & Unspecified & 38 & M & 2\\\\\n",
       "\t6 & 3/30/18 & 17:10 & MANHATTAN & 10001 & 0 & 0 & Driver Inattention/Distraction & Licensed & Sedan & Unspecified & 62 & M & 1\\\\\n",
       "\\end{tabular}\n"
      ],
      "text/markdown": [
       "\n",
       "A data.frame: 6 x 13\n",
       "\n",
       "| <!--/--> | CRASH.DATE &lt;chr&gt; | CRASH.TIME &lt;chr&gt; | BOROUGH &lt;chr&gt; | ZIP.CODE &lt;int&gt; | NUMBER.OF.PERSONS.KILLED &lt;int&gt; | NUMBER.OF.PERSONS.INJURED &lt;int&gt; | CONTRIBUTING.FACTOR.VEHICLE.1 &lt;chr&gt; | DRIVER_LICENSE_STATUS &lt;chr&gt; | TYPE_OF_VEHICLE &lt;chr&gt; | PERSON_INJURY &lt;chr&gt; | PERSON_AGE &lt;int&gt; | PERSON_SEX &lt;chr&gt; | TOTAL_INCIDENTS &lt;int&gt; |\n",
       "|---|---|---|---|---|---|---|---|---|---|---|---|---|---|\n",
       "| 1 | 2/12/19 | 11:55 | MANHATTAN | 10001 | 0 | 0 | Brakes Defective               | Licensed | Sedan | Unspecified | 31 | M | 2 |\n",
       "| 2 | 3/13/17 | 14:21 | MANHATTAN | 10001 | 0 | 0 | Following Too Closely          | Licensed | Sedan | Unspecified | 67 | F | 1 |\n",
       "| 3 | 6/28/19 | 19:30 | MANHATTAN | 10001 | 0 | 0 | Unsafe Lane Changing           | Licensed | SUV   | Unspecified | 70 | F | 1 |\n",
       "| 4 | 7/26/19 | 16:00 | MANHATTAN | 10001 | 0 | 0 | Following Too Closely          | Licensed | Sedan | Unspecified | 78 | M | 1 |\n",
       "| 5 | 8/15/17 | 11:12 | MANHATTAN | 10001 | 0 | 0 | Following Too Closely          | Licensed | Taxi  | Unspecified | 38 | M | 2 |\n",
       "| 6 | 3/30/18 | 17:10 | MANHATTAN | 10001 | 0 | 0 | Driver Inattention/Distraction | Licensed | Sedan | Unspecified | 62 | M | 1 |\n",
       "\n"
      ],
      "text/plain": [
       "  CRASH.DATE CRASH.TIME BOROUGH   ZIP.CODE NUMBER.OF.PERSONS.KILLED\n",
       "1 2/12/19    11:55      MANHATTAN 10001    0                       \n",
       "2 3/13/17    14:21      MANHATTAN 10001    0                       \n",
       "3 6/28/19    19:30      MANHATTAN 10001    0                       \n",
       "4 7/26/19    16:00      MANHATTAN 10001    0                       \n",
       "5 8/15/17    11:12      MANHATTAN 10001    0                       \n",
       "6 3/30/18    17:10      MANHATTAN 10001    0                       \n",
       "  NUMBER.OF.PERSONS.INJURED CONTRIBUTING.FACTOR.VEHICLE.1 \n",
       "1 0                         Brakes Defective              \n",
       "2 0                         Following Too Closely         \n",
       "3 0                         Unsafe Lane Changing          \n",
       "4 0                         Following Too Closely         \n",
       "5 0                         Following Too Closely         \n",
       "6 0                         Driver Inattention/Distraction\n",
       "  DRIVER_LICENSE_STATUS TYPE_OF_VEHICLE PERSON_INJURY PERSON_AGE PERSON_SEX\n",
       "1 Licensed              Sedan           Unspecified   31         M         \n",
       "2 Licensed              Sedan           Unspecified   67         F         \n",
       "3 Licensed              SUV             Unspecified   70         F         \n",
       "4 Licensed              Sedan           Unspecified   78         M         \n",
       "5 Licensed              Taxi            Unspecified   38         M         \n",
       "6 Licensed              Sedan           Unspecified   62         M         \n",
       "  TOTAL_INCIDENTS\n",
       "1 2              \n",
       "2 1              \n",
       "3 1              \n",
       "4 1              \n",
       "5 2              \n",
       "6 1              "
      ]
     },
     "metadata": {},
     "output_type": "display_data"
    }
   ],
   "source": [
    "library(tidyverse)\n",
    "library(RCurl)\n",
    "raw_file <- getURL(\"https://raw.githubusercontent.com/ajordonez/motor-vehicle-accident-model/refs/heads/main/clean_motor_vehicle_table.csv\")\n",
    "vehicle_data <- read.csv(text = raw_file)\n",
    "head(vehicle_data)"
   ]
  },
  {
   "cell_type": "markdown",
   "metadata": {},
   "source": [
    "We will now convert the following fields into factors for easier analysis"
   ]
  },
  {
   "cell_type": "code",
   "execution_count": 25,
   "metadata": {
    "vscode": {
     "languageId": "r"
    }
   },
   "outputs": [
    {
     "data": {
      "text/html": [
       "<style>\n",
       ".list-inline {list-style: none; margin:0; padding: 0}\n",
       ".list-inline>li {display: inline-block}\n",
       ".list-inline>li:not(:last-child)::after {content: \"\\00b7\"; padding: 0 .5ex}\n",
       "</style>\n",
       "<ol class=list-inline><li>'Unlicensed'</li><li>'Permit'</li><li>'Licensed'</li></ol>\n"
      ],
      "text/latex": [
       "\\begin{enumerate*}\n",
       "\\item 'Unlicensed'\n",
       "\\item 'Permit'\n",
       "\\item 'Licensed'\n",
       "\\end{enumerate*}\n"
      ],
      "text/markdown": [
       "1. 'Unlicensed'\n",
       "2. 'Permit'\n",
       "3. 'Licensed'\n",
       "\n",
       "\n"
      ],
      "text/plain": [
       "[1] \"Unlicensed\" \"Permit\"     \"Licensed\"  "
      ]
     },
     "metadata": {},
     "output_type": "display_data"
    }
   ],
   "source": [
    "vehicle_data$BOROUGH <- as.factor(vehicle_data$BOROUGH)\n",
    "vehicle_data$BOROUGH <- relevel(factor(vehicle_data$BOROUGH), ref = \"STATEN ISLAND\")\n",
    "vehicle_data$PERSON_INJURY <- as.factor(vehicle_data$PERSON_INJURY)\n",
    "vehicle_data$PERSON_SEX <- as.factor(vehicle_data$PERSON_SEX)\n",
    "vehicle_data$DRIVER_LICENSE_STATUS <- factor(vehicle_data$DRIVER_LICENSE_STATUS, \n",
    "                                           levels = c(\"Unlicensed\", \"Permit\", \"Licensed\"), \n",
    "                                           ordered = TRUE)\n",
    "vehicle_data$TYPE_OF_VEHICLE <- as.factor(vehicle_data$TYPE_OF_VEHICLE)\n",
    "\n",
    "#Make sure that for drivers license status it is ordered\n",
    "levels(vehicle_data$DRIVER_LICENSE_STATUS)\n"
   ]
  },
  {
   "cell_type": "markdown",
   "metadata": {},
   "source": [
    "We now have most of the variables as factors, but we also have age as a factor for our model. We will now check to make sure for age, no values fall out of reasonable driver age."
   ]
  },
  {
   "cell_type": "code",
   "execution_count": 26,
   "metadata": {
    "vscode": {
     "languageId": "r"
    }
   },
   "outputs": [
    {
     "data": {
      "text/html": [
       "145"
      ],
      "text/latex": [
       "145"
      ],
      "text/markdown": [
       "145"
      ],
      "text/plain": [
       "[1] 145"
      ]
     },
     "metadata": {},
     "output_type": "display_data"
    },
    {
     "data": {
      "text/html": [
       "1"
      ],
      "text/latex": [
       "1"
      ],
      "text/markdown": [
       "1"
      ],
      "text/plain": [
       "[1] 1"
      ]
     },
     "metadata": {},
     "output_type": "display_data"
    }
   ],
   "source": [
    "max(vehicle_data$PERSON_AGE); min(vehicle_data$PERSON_AGE)"
   ]
  },
  {
   "cell_type": "markdown",
   "metadata": {},
   "source": [
    "We can see that the minimum is 1 and maximum is 145. This is not realistic and was probably due to data entry error. We will make the minimum value 12 and maximum 100 for this analysis.\n"
   ]
  },
  {
   "cell_type": "code",
   "execution_count": 27,
   "metadata": {
    "vscode": {
     "languageId": "r"
    }
   },
   "outputs": [],
   "source": [
    "vehicle_data <- vehicle_data %>% filter(PERSON_AGE > 12, PERSON_AGE < 100)"
   ]
  },
  {
   "cell_type": "markdown",
   "metadata": {},
   "source": [
    "For our injury/fatality analysis, we also need to make a seperate field so that we can check if the collision cause any injuries or fatalities."
   ]
  },
  {
   "cell_type": "code",
   "execution_count": 28,
   "metadata": {
    "vscode": {
     "languageId": "r"
    }
   },
   "outputs": [],
   "source": [
    "vehicle_data <- vehicle_data %>%\n",
    "  mutate(INJURY_OR_FATALITY = ifelse(PERSON_INJURY %in% c(\"Injured\", \"Killed\"), TRUE, FALSE))"
   ]
  },
  {
   "cell_type": "markdown",
   "metadata": {},
   "source": [
    "After a quick check on the count of TYPE_OF_VEHICLES with our newly created INJURY_OR_FATALITY column"
   ]
  },
  {
   "cell_type": "code",
   "execution_count": 29,
   "metadata": {
    "vscode": {
     "languageId": "r"
    }
   },
   "outputs": [
    {
     "data": {
      "text/plain": [
       "                   \n",
       "                    FALSE  TRUE\n",
       "  Bus                1919   136\n",
       "  Emergency Vehicle   371    26\n",
       "  Livery               23     0\n",
       "  Motorcycle          680   410\n",
       "  Other              2182   125\n",
       "  Pickup Truck       5392   375\n",
       "  SUV               22633  2666\n",
       "  Sedan             29209  3682\n",
       "  Taxi               3792   277\n",
       "  Truck               188    10\n",
       "  Van                 863    62"
      ]
     },
     "metadata": {},
     "output_type": "display_data"
    }
   ],
   "source": [
    "table(vehicle_data$TYPE_OF_VEHICLE, vehicle_data$INJURY_OR_FATALITY)"
   ]
  },
  {
   "cell_type": "markdown",
   "metadata": {},
   "source": [
    "We can see that ***Livery*** (Limo services) has less than 30 instances, meaning it might cause our model some errors as a variable. We will combine ***Livery*** with Taxi services for this analysis as they both functionally do similar things, drive a paying client/passenger from one place to another."
   ]
  },
  {
   "cell_type": "code",
   "execution_count": 30,
   "metadata": {
    "vscode": {
     "languageId": "r"
    }
   },
   "outputs": [],
   "source": [
    "library(forcats)\n",
    "vehicle_data <- vehicle_data %>%\n",
    "  mutate(TYPE_OF_VEHICLE = fct_collapse(TYPE_OF_VEHICLE, \"Taxi/Livery\" = c(\"Livery\", \"Taxi\")))"
   ]
  },
  {
   "cell_type": "markdown",
   "metadata": {},
   "source": [
    "#### **NOTE: The following will show the processes to get the final model. If you would like to skip to the final model, run the code for the following steps and go to \"Final Regression Model\"**\n",
    "\n",
    "Now it is time to make the first model, we will use a logistical regression model. We chose logistical regression as we are trying to find whether or not (True or False), the variables are factors for injury or fatality. "
   ]
  },
  {
   "cell_type": "code",
   "execution_count": null,
   "metadata": {
    "vscode": {
     "languageId": "r"
    }
   },
   "outputs": [],
   "source": []
  },
  {
   "cell_type": "markdown",
   "metadata": {},
   "source": [
    "In order to get the aggregrated intersections which have the most amount of accidents, we will have to dive deeper. The following query will clean, aggregate, and display the intersections with the most amount of collisions.\n",
    "\n",
    "We will also have an additional column that displays the total number of collisions as well as getting the latitude and longitude for each collision, this will help us when displaying our results. "
   ]
  },
  {
   "cell_type": "code",
   "execution_count": 6,
   "metadata": {
    "vscode": {
     "languageId": "r"
    }
   },
   "outputs": [
    {
     "ename": "IndentationError",
     "evalue": "unexpected indent (2933826755.py, line 2)",
     "output_type": "error",
     "traceback": [
      "\u001b[0;36m  Cell \u001b[0;32mIn[6], line 2\u001b[0;36m\u001b[0m\n\u001b[0;31m    COUNT(DISTINCT COLLISION_ID) AS number_of_collisions,\u001b[0m\n\u001b[0m    ^\u001b[0m\n\u001b[0;31mIndentationError\u001b[0m\u001b[0;31m:\u001b[0m unexpected indent\n"
     ]
    }
   ],
   "source": [
    "SELECT \n",
    "  COUNT(DISTINCT COLLISION_ID) AS number_of_collisions, \n",
    "  LEAST(TRIM(UPPER(`ON STREET NAME`)), TRIM(UPPER(`CROSS STREET NAME`))) AS primary_street_name,\n",
    "  GREATEST(TRIM(UPPER(`ON STREET NAME`)), TRIM(UPPER(`CROSS STREET NAME`))) AS secondary_street_name,\n",
    "  LATITUDE as latitude,\n",
    "\n",
    "WHERE"
   ]
  }
 ],
 "metadata": {
  "kernelspec": {
   "display_name": "R",
   "language": "R",
   "name": "ir"
  },
  "language_info": {
   "codemirror_mode": "r",
   "file_extension": ".r",
   "mimetype": "text/x-r-source",
   "name": "R",
   "pygments_lexer": "r",
   "version": "4.4.1"
  }
 },
 "nbformat": 4,
 "nbformat_minor": 2
}
